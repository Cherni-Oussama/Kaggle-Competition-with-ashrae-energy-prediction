{
  "nbformat": 4,
  "nbformat_minor": 0,
  "metadata": {
    "colab": {
      "name": "ashrae-energy-prediction.ipynb",
      "provenance": [],
      "machine_shape": "hm"
    },
    "kernelspec": {
      "name": "python3",
      "display_name": "Python 3"
    }
  },
  "cells": [
    {
      "cell_type": "markdown",
      "metadata": {
        "id": "sL6_XQLgiqBY",
        "colab_type": "text"
      },
      "source": [
        "# Get Data Files from Kaggle\n",
        "\n",
        "---\n",
        "\n"
      ]
    },
    {
      "cell_type": "markdown",
      "metadata": {
        "id": "5ob9-LM3HCfI",
        "colab_type": "text"
      },
      "source": [
        "To use Kaggle datasets in Google colab we need to grab a token from kaggle.\n",
        "That’s going to download a file called kaggle.json."
      ]
    },
    {
      "cell_type": "code",
      "metadata": {
        "id": "y3Y-ol4iE9at",
        "colab_type": "code",
        "colab": {}
      },
      "source": [
        "#!rm -dr ~/.kaggle\n",
        "!pip install -U -q kaggle\n",
        "\n",
        "!mkdir -p ~/.kaggle\n",
        "from google.colab import files\n"
      ],
      "execution_count": 0,
      "outputs": []
    },
    {
      "cell_type": "code",
      "metadata": {
        "id": "jCq4IBCHiLJ7",
        "colab_type": "code",
        "outputId": "83532ee9-323b-426c-c8a5-443469356f3e",
        "colab": {
          "resources": {
            "http://localhost:8080/nbextensions/google.colab/files.js": {
              "data": "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",
              "ok": true,
              "headers": [
                [
                  "content-type",
                  "application/javascript"
                ]
              ],
              "status": 200,
              "status_text": ""
            }
          },
          "base_uri": "https://localhost:8080/",
          "height": 91
        }
      },
      "source": [
        "files.upload()\n"
      ],
      "execution_count": 3,
      "outputs": [
        {
          "output_type": "display_data",
          "data": {
            "text/html": [
              "\n",
              "     <input type=\"file\" id=\"files-b7fccbff-bb9b-439f-b303-48bad2354267\" name=\"files[]\" multiple disabled />\n",
              "     <output id=\"result-b7fccbff-bb9b-439f-b303-48bad2354267\">\n",
              "      Upload widget is only available when the cell has been executed in the\n",
              "      current browser session. Please rerun this cell to enable.\n",
              "      </output>\n",
              "      <script src=\"/nbextensions/google.colab/files.js\"></script> "
            ],
            "text/plain": [
              "<IPython.core.display.HTML object>"
            ]
          },
          "metadata": {
            "tags": []
          }
        },
        {
          "output_type": "stream",
          "text": [
            "Saving kaggle.json to kaggle.json\n"
          ],
          "name": "stdout"
        },
        {
          "output_type": "execute_result",
          "data": {
            "text/plain": [
              "{'kaggle.json': b'{\"username\":\"oussamatn\",\"key\":\"6a2e8a66785e7c90254580b027a26da8\"}'}"
            ]
          },
          "metadata": {
            "tags": []
          },
          "execution_count": 3
        }
      ]
    },
    {
      "cell_type": "code",
      "metadata": {
        "id": "J7jTnE1XiSpr",
        "colab_type": "code",
        "outputId": "a7ac8cf2-2cc4-42e6-df18-5d5c1c69edf4",
        "colab": {
          "base_uri": "https://localhost:8080/",
          "height": 340
        }
      },
      "source": [
        "#Set up the Kaggle directory and moving the datasets from kaggle to Google Colab. \n",
        "!cp kaggle.json ~/.kaggle/\n",
        "!chmod 600 ~/.kaggle/kaggle.json\n",
        "!kaggle competitions download -c ashrae-energy-prediction\n",
        "\n"
      ],
      "execution_count": 4,
      "outputs": [
        {
          "output_type": "stream",
          "text": [
            "Warning: Looks like you're using an outdated API Version, please consider updating (server 1.5.6 / client 1.5.4)\n",
            "Downloading weather_test.csv.zip to /content\n",
            "\r  0% 0.00/2.53M [00:00<?, ?B/s]\n",
            "\r100% 2.53M/2.53M [00:00<00:00, 84.8MB/s]\n",
            "Downloading sample_submission.csv.zip to /content\n",
            " 83% 73.0M/88.4M [00:00<00:00, 79.9MB/s]\n",
            "100% 88.4M/88.4M [00:00<00:00, 121MB/s] \n",
            "Downloading test.csv.zip to /content\n",
            " 88% 147M/167M [00:01<00:00, 68.7MB/s]\n",
            "100% 167M/167M [00:01<00:00, 111MB/s] \n",
            "Downloading building_metadata.csv to /content\n",
            "  0% 0.00/44.5k [00:00<?, ?B/s]\n",
            "100% 44.5k/44.5k [00:00<00:00, 41.4MB/s]\n",
            "Downloading weather_train.csv.zip to /content\n",
            "  0% 0.00/1.27M [00:00<?, ?B/s]\n",
            "100% 1.27M/1.27M [00:00<00:00, 86.8MB/s]\n",
            "Downloading train.csv.zip to /content\n",
            " 99% 119M/120M [00:01<00:00, 105MB/s]  \n",
            "100% 120M/120M [00:01<00:00, 108MB/s]\n"
          ],
          "name": "stdout"
        }
      ]
    },
    {
      "cell_type": "code",
      "metadata": {
        "id": "GMWgrqWViese",
        "colab_type": "code",
        "outputId": "fc3f418a-5148-48b8-8c19-ac0d85ec61f9",
        "colab": {
          "base_uri": "https://localhost:8080/",
          "height": 187
        }
      },
      "source": [
        "#Files are in compressed format. We need to unzip them.\n",
        "!unzip weather_train.csv.zip\n",
        "!unzip weather_test.csv.zip\n",
        "!unzip test.csv.zip\n",
        "!unzip train.csv.zip\n",
        "!unzip sample_submission.csv.zip\n"
      ],
      "execution_count": 5,
      "outputs": [
        {
          "output_type": "stream",
          "text": [
            "Archive:  weather_train.csv.zip\n",
            "  inflating: weather_train.csv       \n",
            "Archive:  weather_test.csv.zip\n",
            "  inflating: weather_test.csv        \n",
            "Archive:  test.csv.zip\n",
            "  inflating: test.csv                \n",
            "Archive:  train.csv.zip\n",
            "  inflating: train.csv               \n",
            "Archive:  sample_submission.csv.zip\n",
            "  inflating: sample_submission.csv   \n"
          ],
          "name": "stdout"
        }
      ]
    },
    {
      "cell_type": "markdown",
      "metadata": {
        "id": "FhQlJY8Ti49o",
        "colab_type": "text"
      },
      "source": [
        "# Imports "
      ]
    },
    {
      "cell_type": "code",
      "metadata": {
        "id": "iloYkCEBimkr",
        "colab_type": "code",
        "colab": {}
      },
      "source": [
        "import numpy as np # linear algebra\n",
        "import pandas as pd # data processing, CSV file I/O (e.g. pd.read_csv)\n",
        "\n",
        "# matplotlib and seaborn for plotting\n",
        "import matplotlib\n",
        "import matplotlib.pyplot as plt\n",
        "import seaborn as sns"
      ],
      "execution_count": 0,
      "outputs": []
    },
    {
      "cell_type": "code",
      "metadata": {
        "id": "saRsf8U9i8K5",
        "colab_type": "code",
        "colab": {}
      },
      "source": [
        "#Read a comma-separated values (csv) file into DataFrame.\n",
        "#Pandas DataFrames make manipulating the data easy, from selecting or replacing columns and indices to reshaping the data.\n",
        "BuildM_DF=pd.read_csv(\"building_metadata.csv\")\n",
        "Weather_train_DF = pd.read_csv(\"weather_train.csv\")\n",
        "Weather_Test_DF = pd.read_csv(\"weather_test.csv\")\n",
        "Train_DF = pd.read_csv(\"train.csv\")"
      ],
      "execution_count": 0,
      "outputs": []
    },
    {
      "cell_type": "markdown",
      "metadata": {
        "id": "MKPHV9lTjsTU",
        "colab_type": "text"
      },
      "source": [
        " # Visualization"
      ]
    },
    {
      "cell_type": "markdown",
      "metadata": {
        "id": "nQKaaQ2sjyGC",
        "colab_type": "text"
      },
      "source": [
        "## Visualize the training DataFrame"
      ]
    },
    {
      "cell_type": "code",
      "metadata": {
        "id": "d_VuzbuTjR2s",
        "colab_type": "code",
        "outputId": "beeb533f-6184-4f49-c045-70f7865624d1",
        "colab": {
          "base_uri": "https://localhost:8080/",
          "height": 34
        }
      },
      "source": [
        "#Display the size of this data frame using the `shape`\n",
        "Train_DF.shape"
      ],
      "execution_count": 8,
      "outputs": [
        {
          "output_type": "execute_result",
          "data": {
            "text/plain": [
              "(20216100, 4)"
            ]
          },
          "metadata": {
            "tags": []
          },
          "execution_count": 8
        }
      ]
    },
    {
      "cell_type": "code",
      "metadata": {
        "id": "7X-FgZqqjvXI",
        "colab_type": "code",
        "outputId": "7a15bfd3-a91c-40dc-be7e-e3755f2fcaef",
        "colab": {
          "base_uri": "https://localhost:8080/",
          "height": 359
        }
      },
      "source": [
        "#Display the first 10 rows of this data frame by calling the `head`\n",
        "Train_DF.head(10)"
      ],
      "execution_count": 9,
      "outputs": [
        {
          "output_type": "execute_result",
          "data": {
            "text/html": [
              "<div>\n",
              "<style scoped>\n",
              "    .dataframe tbody tr th:only-of-type {\n",
              "        vertical-align: middle;\n",
              "    }\n",
              "\n",
              "    .dataframe tbody tr th {\n",
              "        vertical-align: top;\n",
              "    }\n",
              "\n",
              "    .dataframe thead th {\n",
              "        text-align: right;\n",
              "    }\n",
              "</style>\n",
              "<table border=\"1\" class=\"dataframe\">\n",
              "  <thead>\n",
              "    <tr style=\"text-align: right;\">\n",
              "      <th></th>\n",
              "      <th>building_id</th>\n",
              "      <th>meter</th>\n",
              "      <th>timestamp</th>\n",
              "      <th>meter_reading</th>\n",
              "    </tr>\n",
              "  </thead>\n",
              "  <tbody>\n",
              "    <tr>\n",
              "      <th>0</th>\n",
              "      <td>0</td>\n",
              "      <td>0</td>\n",
              "      <td>2016-01-01 00:00:00</td>\n",
              "      <td>0.0</td>\n",
              "    </tr>\n",
              "    <tr>\n",
              "      <th>1</th>\n",
              "      <td>1</td>\n",
              "      <td>0</td>\n",
              "      <td>2016-01-01 00:00:00</td>\n",
              "      <td>0.0</td>\n",
              "    </tr>\n",
              "    <tr>\n",
              "      <th>2</th>\n",
              "      <td>2</td>\n",
              "      <td>0</td>\n",
              "      <td>2016-01-01 00:00:00</td>\n",
              "      <td>0.0</td>\n",
              "    </tr>\n",
              "    <tr>\n",
              "      <th>3</th>\n",
              "      <td>3</td>\n",
              "      <td>0</td>\n",
              "      <td>2016-01-01 00:00:00</td>\n",
              "      <td>0.0</td>\n",
              "    </tr>\n",
              "    <tr>\n",
              "      <th>4</th>\n",
              "      <td>4</td>\n",
              "      <td>0</td>\n",
              "      <td>2016-01-01 00:00:00</td>\n",
              "      <td>0.0</td>\n",
              "    </tr>\n",
              "    <tr>\n",
              "      <th>5</th>\n",
              "      <td>5</td>\n",
              "      <td>0</td>\n",
              "      <td>2016-01-01 00:00:00</td>\n",
              "      <td>0.0</td>\n",
              "    </tr>\n",
              "    <tr>\n",
              "      <th>6</th>\n",
              "      <td>6</td>\n",
              "      <td>0</td>\n",
              "      <td>2016-01-01 00:00:00</td>\n",
              "      <td>0.0</td>\n",
              "    </tr>\n",
              "    <tr>\n",
              "      <th>7</th>\n",
              "      <td>7</td>\n",
              "      <td>0</td>\n",
              "      <td>2016-01-01 00:00:00</td>\n",
              "      <td>0.0</td>\n",
              "    </tr>\n",
              "    <tr>\n",
              "      <th>8</th>\n",
              "      <td>8</td>\n",
              "      <td>0</td>\n",
              "      <td>2016-01-01 00:00:00</td>\n",
              "      <td>0.0</td>\n",
              "    </tr>\n",
              "    <tr>\n",
              "      <th>9</th>\n",
              "      <td>9</td>\n",
              "      <td>0</td>\n",
              "      <td>2016-01-01 00:00:00</td>\n",
              "      <td>0.0</td>\n",
              "    </tr>\n",
              "  </tbody>\n",
              "</table>\n",
              "</div>"
            ],
            "text/plain": [
              "   building_id  meter            timestamp  meter_reading\n",
              "0            0      0  2016-01-01 00:00:00            0.0\n",
              "1            1      0  2016-01-01 00:00:00            0.0\n",
              "2            2      0  2016-01-01 00:00:00            0.0\n",
              "3            3      0  2016-01-01 00:00:00            0.0\n",
              "4            4      0  2016-01-01 00:00:00            0.0\n",
              "5            5      0  2016-01-01 00:00:00            0.0\n",
              "6            6      0  2016-01-01 00:00:00            0.0\n",
              "7            7      0  2016-01-01 00:00:00            0.0\n",
              "8            8      0  2016-01-01 00:00:00            0.0\n",
              "9            9      0  2016-01-01 00:00:00            0.0"
            ]
          },
          "metadata": {
            "tags": []
          },
          "execution_count": 9
        }
      ]
    },
    {
      "cell_type": "code",
      "metadata": {
        "id": "9HFiSb0Rj7GV",
        "colab_type": "code",
        "outputId": "4f86df0c-2b00-458c-9bb3-3fc111ab78da",
        "colab": {
          "base_uri": "https://localhost:8080/",
          "height": 102
        }
      },
      "source": [
        "#Display the data types of the data frame columns using the `dtypes`\n",
        "Train_DF.dtypes"
      ],
      "execution_count": 10,
      "outputs": [
        {
          "output_type": "execute_result",
          "data": {
            "text/plain": [
              "building_id        int64\n",
              "meter              int64\n",
              "timestamp         object\n",
              "meter_reading    float64\n",
              "dtype: object"
            ]
          },
          "metadata": {
            "tags": []
          },
          "execution_count": 10
        }
      ]
    },
    {
      "cell_type": "code",
      "metadata": {
        "id": "bmbpC7XDj_de",
        "colab_type": "code",
        "outputId": "1e7f6146-d6f1-45af-c90c-54f7dfdca0bb",
        "colab": {
          "base_uri": "https://localhost:8080/",
          "height": 102
        }
      },
      "source": [
        "#missing values in all columns\n",
        "Train_DF.isnull().sum()"
      ],
      "execution_count": 11,
      "outputs": [
        {
          "output_type": "execute_result",
          "data": {
            "text/plain": [
              "building_id      0\n",
              "meter            0\n",
              "timestamp        0\n",
              "meter_reading    0\n",
              "dtype: int64"
            ]
          },
          "metadata": {
            "tags": []
          },
          "execution_count": 11
        }
      ]
    },
    {
      "cell_type": "code",
      "metadata": {
        "id": "uguJx5T1kB9i",
        "colab_type": "code",
        "outputId": "97f5113f-654d-42aa-deb4-7d8007b4bf5e",
        "colab": {
          "base_uri": "https://localhost:8080/",
          "height": 297
        }
      },
      "source": [
        "Train_DF.describe()"
      ],
      "execution_count": 12,
      "outputs": [
        {
          "output_type": "execute_result",
          "data": {
            "text/html": [
              "<div>\n",
              "<style scoped>\n",
              "    .dataframe tbody tr th:only-of-type {\n",
              "        vertical-align: middle;\n",
              "    }\n",
              "\n",
              "    .dataframe tbody tr th {\n",
              "        vertical-align: top;\n",
              "    }\n",
              "\n",
              "    .dataframe thead th {\n",
              "        text-align: right;\n",
              "    }\n",
              "</style>\n",
              "<table border=\"1\" class=\"dataframe\">\n",
              "  <thead>\n",
              "    <tr style=\"text-align: right;\">\n",
              "      <th></th>\n",
              "      <th>building_id</th>\n",
              "      <th>meter</th>\n",
              "      <th>meter_reading</th>\n",
              "    </tr>\n",
              "  </thead>\n",
              "  <tbody>\n",
              "    <tr>\n",
              "      <th>count</th>\n",
              "      <td>2.021610e+07</td>\n",
              "      <td>2.021610e+07</td>\n",
              "      <td>2.021610e+07</td>\n",
              "    </tr>\n",
              "    <tr>\n",
              "      <th>mean</th>\n",
              "      <td>7.992780e+02</td>\n",
              "      <td>6.624412e-01</td>\n",
              "      <td>2.117121e+03</td>\n",
              "    </tr>\n",
              "    <tr>\n",
              "      <th>std</th>\n",
              "      <td>4.269133e+02</td>\n",
              "      <td>9.309921e-01</td>\n",
              "      <td>1.532356e+05</td>\n",
              "    </tr>\n",
              "    <tr>\n",
              "      <th>min</th>\n",
              "      <td>0.000000e+00</td>\n",
              "      <td>0.000000e+00</td>\n",
              "      <td>0.000000e+00</td>\n",
              "    </tr>\n",
              "    <tr>\n",
              "      <th>25%</th>\n",
              "      <td>3.930000e+02</td>\n",
              "      <td>0.000000e+00</td>\n",
              "      <td>1.830000e+01</td>\n",
              "    </tr>\n",
              "    <tr>\n",
              "      <th>50%</th>\n",
              "      <td>8.950000e+02</td>\n",
              "      <td>0.000000e+00</td>\n",
              "      <td>7.877500e+01</td>\n",
              "    </tr>\n",
              "    <tr>\n",
              "      <th>75%</th>\n",
              "      <td>1.179000e+03</td>\n",
              "      <td>1.000000e+00</td>\n",
              "      <td>2.679840e+02</td>\n",
              "    </tr>\n",
              "    <tr>\n",
              "      <th>max</th>\n",
              "      <td>1.448000e+03</td>\n",
              "      <td>3.000000e+00</td>\n",
              "      <td>2.190470e+07</td>\n",
              "    </tr>\n",
              "  </tbody>\n",
              "</table>\n",
              "</div>"
            ],
            "text/plain": [
              "        building_id         meter  meter_reading\n",
              "count  2.021610e+07  2.021610e+07   2.021610e+07\n",
              "mean   7.992780e+02  6.624412e-01   2.117121e+03\n",
              "std    4.269133e+02  9.309921e-01   1.532356e+05\n",
              "min    0.000000e+00  0.000000e+00   0.000000e+00\n",
              "25%    3.930000e+02  0.000000e+00   1.830000e+01\n",
              "50%    8.950000e+02  0.000000e+00   7.877500e+01\n",
              "75%    1.179000e+03  1.000000e+00   2.679840e+02\n",
              "max    1.448000e+03  3.000000e+00   2.190470e+07"
            ]
          },
          "metadata": {
            "tags": []
          },
          "execution_count": 12
        }
      ]
    },
    {
      "cell_type": "code",
      "metadata": {
        "id": "Uxb2Oh41kDzU",
        "colab_type": "code",
        "outputId": "83445761-1fcf-44db-818f-4f0f8165c989",
        "colab": {
          "base_uri": "https://localhost:8080/",
          "height": 706
        }
      },
      "source": [
        "# Make a histogram of the DataFrame’s.\n",
        "Train_DF.hist(bins=10, grid=False, figsize=(10,10), color='#86bf91', zorder=1, rwidth=0.9)"
      ],
      "execution_count": 13,
      "outputs": [
        {
          "output_type": "execute_result",
          "data": {
            "text/plain": [
              "array([[<matplotlib.axes._subplots.AxesSubplot object at 0x7f72ca2f7cc0>,\n",
              "        <matplotlib.axes._subplots.AxesSubplot object at 0x7f72ca26b630>],\n",
              "       [<matplotlib.axes._subplots.AxesSubplot object at 0x7f72ca21fbe0>,\n",
              "        <matplotlib.axes._subplots.AxesSubplot object at 0x7f72ca25b1d0>]],\n",
              "      dtype=object)"
            ]
          },
          "metadata": {
            "tags": []
          },
          "execution_count": 13
        },
        {
          "output_type": "display_data",
          "data": {
            "image/png": "[encoded data removed]",
            "text/plain": [
              "<Figure size 720x720 with 4 Axes>"
            ]
          },
          "metadata": {
            "tags": []
          }
        }
      ]
    },
    {
      "cell_type": "markdown",
      "metadata": {
        "id": "CEfuBjNekKyJ",
        "colab_type": "text"
      },
      "source": [
        "## Visualize the Building DataFrame"
      ]
    },
    {
      "cell_type": "code",
      "metadata": {
        "id": "Qd2G5crnkHFV",
        "colab_type": "code",
        "outputId": "0308df0a-999b-4863-d2b1-f1055653aa3e",
        "colab": {
          "base_uri": "https://localhost:8080/",
          "height": 34
        }
      },
      "source": [
        "BuildM_DF.shape\n"
      ],
      "execution_count": 14,
      "outputs": [
        {
          "output_type": "execute_result",
          "data": {
            "text/plain": [
              "(1449, 6)"
            ]
          },
          "metadata": {
            "tags": []
          },
          "execution_count": 14
        }
      ]
    },
    {
      "cell_type": "code",
      "metadata": {
        "id": "MvNelX3BkO9L",
        "colab_type": "code",
        "outputId": "1f34a9df-88e8-49fc-fbf0-a89e4f0b7724",
        "colab": {
          "base_uri": "https://localhost:8080/",
          "height": 136
        }
      },
      "source": [
        "# display the rate of missing values.\n",
        "(BuildM_DF.isnull().sum()/ BuildM_DF.shape[0])*100\n",
        "# Year_built and floor_count columns should be dropped as they are missing more than 50% of values "
      ],
      "execution_count": 16,
      "outputs": [
        {
          "output_type": "execute_result",
          "data": {
            "text/plain": [
              "site_id         0.000000\n",
              "building_id     0.000000\n",
              "primary_use     0.000000\n",
              "square_feet     0.000000\n",
              "year_built     53.416149\n",
              "floor_count    75.500345\n",
              "dtype: float64"
            ]
          },
          "metadata": {
            "tags": []
          },
          "execution_count": 16
        }
      ]
    },
    {
      "cell_type": "code",
      "metadata": {
        "id": "tSGHZ78TkRkU",
        "colab_type": "code",
        "outputId": "f9d6a906-edd1-44e9-9c06-ca0bffe2f4af",
        "colab": {
          "base_uri": "https://localhost:8080/",
          "height": 306
        }
      },
      "source": [
        "# 'primary_use' is categorical variable.\n",
        "BuildM_DF.primary_use.value_counts()\n",
        "#we should keep categories with value_count less than 100 in another new category"
      ],
      "execution_count": 17,
      "outputs": [
        {
          "output_type": "execute_result",
          "data": {
            "text/plain": [
              "Education                        549\n",
              "Office                           279\n",
              "Entertainment/public assembly    184\n",
              "Public services                  156\n",
              "Lodging/residential              147\n",
              "Other                             25\n",
              "Healthcare                        23\n",
              "Parking                           22\n",
              "Warehouse/storage                 13\n",
              "Manufacturing/industrial          12\n",
              "Retail                            11\n",
              "Services                          10\n",
              "Technology/science                 6\n",
              "Food sales and service             5\n",
              "Utility                            4\n",
              "Religious worship                  3\n",
              "Name: primary_use, dtype: int64"
            ]
          },
          "metadata": {
            "tags": []
          },
          "execution_count": 17
        }
      ]
    },
    {
      "cell_type": "code",
      "metadata": {
        "id": "LWGIh-MpTa2-",
        "colab_type": "code",
        "colab": {
          "base_uri": "https://localhost:8080/",
          "height": 265
        },
        "outputId": "82120f93-158b-4414-86a0-4d3a80df347e"
      },
      "source": [
        "BuildM_DF.primary_use.value_counts().plot.pie()"
      ],
      "execution_count": 18,
      "outputs": [
        {
          "output_type": "execute_result",
          "data": {
            "text/plain": [
              "<matplotlib.axes._subplots.AxesSubplot at 0x7f72c77e55c0>"
            ]
          },
          "metadata": {
            "tags": []
          },
          "execution_count": 18
        },
        {
          "output_type": "display_data",
          "data": {
            "image/png": "[encoded data removed]",
            "text/plain": [
              "<Figure size 432x288 with 1 Axes>"
            ]
          },
          "metadata": {
            "tags": []
          }
        }
      ]
    },
    {
      "cell_type": "code",
      "metadata": {
        "id": "wH8gEfyxkUZT",
        "colab_type": "code",
        "outputId": "a01a482f-27af-45ee-e053-e2b54633cf2a",
        "colab": {
          "base_uri": "https://localhost:8080/",
          "height": 618
        }
      },
      "source": [
        "# Make a histogram of the DataFrame’s.\n",
        "BuildM_DF.hist(bins=10, grid=False, figsize=(8,8), color='#86bf91', zorder=1, rwidth=0.9)"
      ],
      "execution_count": 19,
      "outputs": [
        {
          "output_type": "execute_result",
          "data": {
            "text/plain": [
              "array([[<matplotlib.axes._subplots.AxesSubplot object at 0x7f72c775aa90>,\n",
              "        <matplotlib.axes._subplots.AxesSubplot object at 0x7f72c771b0f0>],\n",
              "       [<matplotlib.axes._subplots.AxesSubplot object at 0x7f72c76cb668>,\n",
              "        <matplotlib.axes._subplots.AxesSubplot object at 0x7f72c76fec18>],\n",
              "       [<matplotlib.axes._subplots.AxesSubplot object at 0x7f72c76bc208>,\n",
              "        <matplotlib.axes._subplots.AxesSubplot object at 0x7f72c766c7b8>]],\n",
              "      dtype=object)"
            ]
          },
          "metadata": {
            "tags": []
          },
          "execution_count": 19
        },
        {
          "output_type": "display_data",
          "data": {
            "image/png": "[encoded data removed]",
            "text/plain": [
              "<Figure size 576x576 with 6 Axes>"
            ]
          },
          "metadata": {
            "tags": []
          }
        }
      ]
    },
    {
      "cell_type": "markdown",
      "metadata": {
        "id": "I4XH8qKkkjwZ",
        "colab_type": "text"
      },
      "source": [
        "## Visualize Weather DataFrame\n"
      ]
    },
    {
      "cell_type": "code",
      "metadata": {
        "id": "fYkr0pBGkZ-K",
        "colab_type": "code",
        "outputId": "0eacd9f2-b233-446e-9e76-fc8b11bfaa63",
        "colab": {
          "base_uri": "https://localhost:8080/",
          "height": 34
        }
      },
      "source": [
        "Weather_train_DF.shape"
      ],
      "execution_count": 20,
      "outputs": [
        {
          "output_type": "execute_result",
          "data": {
            "text/plain": [
              "(139773, 9)"
            ]
          },
          "metadata": {
            "tags": []
          },
          "execution_count": 20
        }
      ]
    },
    {
      "cell_type": "code",
      "metadata": {
        "id": "i9fe1S5zkmu3",
        "colab_type": "code",
        "outputId": "609d030e-e7a9-400d-cd3e-a1ec92196ebc",
        "colab": {
          "base_uri": "https://localhost:8080/",
          "height": 204
        }
      },
      "source": [
        "Weather_train_DF.head()"
      ],
      "execution_count": 21,
      "outputs": [
        {
          "output_type": "execute_result",
          "data": {
            "text/html": [
              "<div>\n",
              "<style scoped>\n",
              "    .dataframe tbody tr th:only-of-type {\n",
              "        vertical-align: middle;\n",
              "    }\n",
              "\n",
              "    .dataframe tbody tr th {\n",
              "        vertical-align: top;\n",
              "    }\n",
              "\n",
              "    .dataframe thead th {\n",
              "        text-align: right;\n",
              "    }\n",
              "</style>\n",
              "<table border=\"1\" class=\"dataframe\">\n",
              "  <thead>\n",
              "    <tr style=\"text-align: right;\">\n",
              "      <th></th>\n",
              "      <th>site_id</th>\n",
              "      <th>timestamp</th>\n",
              "      <th>air_temperature</th>\n",
              "      <th>cloud_coverage</th>\n",
              "      <th>dew_temperature</th>\n",
              "      <th>precip_depth_1_hr</th>\n",
              "      <th>sea_level_pressure</th>\n",
              "      <th>wind_direction</th>\n",
              "      <th>wind_speed</th>\n",
              "    </tr>\n",
              "  </thead>\n",
              "  <tbody>\n",
              "    <tr>\n",
              "      <th>0</th>\n",
              "      <td>0</td>\n",
              "      <td>2016-01-01 00:00:00</td>\n",
              "      <td>25.0</td>\n",
              "      <td>6.0</td>\n",
              "      <td>20.0</td>\n",
              "      <td>NaN</td>\n",
              "      <td>1019.7</td>\n",
              "      <td>0.0</td>\n",
              "      <td>0.0</td>\n",
              "    </tr>\n",
              "    <tr>\n",
              "      <th>1</th>\n",
              "      <td>0</td>\n",
              "      <td>2016-01-01 01:00:00</td>\n",
              "      <td>24.4</td>\n",
              "      <td>NaN</td>\n",
              "      <td>21.1</td>\n",
              "      <td>-1.0</td>\n",
              "      <td>1020.2</td>\n",
              "      <td>70.0</td>\n",
              "      <td>1.5</td>\n",
              "    </tr>\n",
              "    <tr>\n",
              "      <th>2</th>\n",
              "      <td>0</td>\n",
              "      <td>2016-01-01 02:00:00</td>\n",
              "      <td>22.8</td>\n",
              "      <td>2.0</td>\n",
              "      <td>21.1</td>\n",
              "      <td>0.0</td>\n",
              "      <td>1020.2</td>\n",
              "      <td>0.0</td>\n",
              "      <td>0.0</td>\n",
              "    </tr>\n",
              "    <tr>\n",
              "      <th>3</th>\n",
              "      <td>0</td>\n",
              "      <td>2016-01-01 03:00:00</td>\n",
              "      <td>21.1</td>\n",
              "      <td>2.0</td>\n",
              "      <td>20.6</td>\n",
              "      <td>0.0</td>\n",
              "      <td>1020.1</td>\n",
              "      <td>0.0</td>\n",
              "      <td>0.0</td>\n",
              "    </tr>\n",
              "    <tr>\n",
              "      <th>4</th>\n",
              "      <td>0</td>\n",
              "      <td>2016-01-01 04:00:00</td>\n",
              "      <td>20.0</td>\n",
              "      <td>2.0</td>\n",
              "      <td>20.0</td>\n",
              "      <td>-1.0</td>\n",
              "      <td>1020.0</td>\n",
              "      <td>250.0</td>\n",
              "      <td>2.6</td>\n",
              "    </tr>\n",
              "  </tbody>\n",
              "</table>\n",
              "</div>"
            ],
            "text/plain": [
              "   site_id            timestamp  ...  wind_direction  wind_speed\n",
              "0        0  2016-01-01 00:00:00  ...             0.0         0.0\n",
              "1        0  2016-01-01 01:00:00  ...            70.0         1.5\n",
              "2        0  2016-01-01 02:00:00  ...             0.0         0.0\n",
              "3        0  2016-01-01 03:00:00  ...             0.0         0.0\n",
              "4        0  2016-01-01 04:00:00  ...           250.0         2.6\n",
              "\n",
              "[5 rows x 9 columns]"
            ]
          },
          "metadata": {
            "tags": []
          },
          "execution_count": 21
        }
      ]
    },
    {
      "cell_type": "code",
      "metadata": {
        "id": "NuheNU0QoWoE",
        "colab_type": "code",
        "colab": {
          "base_uri": "https://localhost:8080/",
          "height": 187
        },
        "outputId": "b414378b-84db-4803-d9a1-8825c190e891"
      },
      "source": [
        "(Weather_train_DF.isnull().sum()/Weather_train_DF.shape[0]) *100\n",
        "# We should replace Nan values with the the median."
      ],
      "execution_count": 23,
      "outputs": [
        {
          "output_type": "execute_result",
          "data": {
            "text/plain": [
              "site_id                0.000000\n",
              "timestamp              0.000000\n",
              "air_temperature        0.039350\n",
              "cloud_coverage        49.489529\n",
              "dew_temperature        0.080845\n",
              "precip_depth_1_hr     35.979052\n",
              "sea_level_pressure     7.596603\n",
              "wind_direction         4.484414\n",
              "wind_speed             0.217496\n",
              "dtype: float64"
            ]
          },
          "metadata": {
            "tags": []
          },
          "execution_count": 23
        }
      ]
    },
    {
      "cell_type": "code",
      "metadata": {
        "id": "E30BzgOslCrs",
        "colab_type": "code",
        "outputId": "77680c6e-5036-4038-a4b9-7b58d958f729",
        "colab": {
          "base_uri": "https://localhost:8080/",
          "height": 886
        }
      },
      "source": [
        "Weather_train_DF.hist(bins=10, grid=False, figsize=(12,12), color='#86bf91', zorder=1, rwidth=0.9)"
      ],
      "execution_count": 24,
      "outputs": [
        {
          "output_type": "execute_result",
          "data": {
            "text/plain": [
              "array([[<matplotlib.axes._subplots.AxesSubplot object at 0x7f72c75b2128>,\n",
              "        <matplotlib.axes._subplots.AxesSubplot object at 0x7f72c74fa198>,\n",
              "        <matplotlib.axes._subplots.AxesSubplot object at 0x7f72c74a6710>],\n",
              "       [<matplotlib.axes._subplots.AxesSubplot object at 0x7f72c7457cc0>,\n",
              "        <matplotlib.axes._subplots.AxesSubplot object at 0x7f72c74132b0>,\n",
              "        <matplotlib.axes._subplots.AxesSubplot object at 0x7f72c7444860>],\n",
              "       [<matplotlib.axes._subplots.AxesSubplot object at 0x7f72c73f7e10>,\n",
              "        <matplotlib.axes._subplots.AxesSubplot object at 0x7f72c73b3438>,\n",
              "        <matplotlib.axes._subplots.AxesSubplot object at 0x7f72c73b3470>]],\n",
              "      dtype=object)"
            ]
          },
          "metadata": {
            "tags": []
          },
          "execution_count": 24
        },
        {
          "output_type": "display_data",
          "data": {
            "image/png": "[encoded data removed]",
            "text/plain": [
              "<Figure size 864x864 with 9 Axes>"
            ]
          },
          "metadata": {
            "tags": []
          }
        }
      ]
    },
    {
      "cell_type": "markdown",
      "metadata": {
        "id": "b7OogJqfTlaM",
        "colab_type": "text"
      },
      "source": [
        "## Visualize the difference between train and test weather data"
      ]
    },
    {
      "cell_type": "code",
      "metadata": {
        "id": "O4nRKLyUTaAy",
        "colab_type": "code",
        "colab": {}
      },
      "source": [
        "#  plot dist curves for train and test weather data for the given column name\n",
        "\n",
        "def plot_dist_col(column):\n",
        "    fig, ax = plt.subplots(figsize=(8, 5))\n",
        "    sns.distplot(Weather_train_DF[column].dropna(), color='green', ax=ax).set_title(column, fontsize=16)\n",
        "    sns.distplot(Weather_Test_DF[column].dropna(), color='purple', ax=ax).set_title(column, fontsize=16)\n",
        "    plt.xlabel(column, fontsize=15)\n",
        "    plt.legend(['train', 'test'])\n",
        "    plt.show()\n"
      ],
      "execution_count": 0,
      "outputs": []
    },
    {
      "cell_type": "code",
      "metadata": {
        "id": "PuR38r-NTtMQ",
        "colab_type": "code",
        "outputId": "037ffb99-2d81-4529-e30d-6fb7647051d2",
        "colab": {
          "base_uri": "https://localhost:8080/",
          "height": 358
        }
      },
      "source": [
        "plot_dist_col('cloud_coverage')"
      ],
      "execution_count": 36,
      "outputs": [
        {
          "output_type": "display_data",
          "data": {
            "image/png": "[encoded data removed]",
            "text/plain": [
              "<Figure size 576x360 with 1 Axes>"
            ]
          },
          "metadata": {
            "tags": []
          }
        }
      ]
    },
    {
      "cell_type": "code",
      "metadata": {
        "id": "nZjSLEK1UIao",
        "colab_type": "code",
        "outputId": "527c31db-3ff4-418b-ee46-4ec287a650fd",
        "colab": {
          "base_uri": "https://localhost:8080/",
          "height": 358
        }
      },
      "source": [
        "plot_dist_col('sea_level_pressure')"
      ],
      "execution_count": 37,
      "outputs": [
        {
          "output_type": "display_data",
          "data": {
            "image/png": "[encoded data removed]",
            "text/plain": [
              "<Figure size 576x360 with 1 Axes>"
            ]
          },
          "metadata": {
            "tags": []
          }
        }
      ]
    },
    {
      "cell_type": "markdown",
      "metadata": {
        "id": "WzQjfGTck0cA",
        "colab_type": "text"
      },
      "source": [
        "# Clean the Data and merge it"
      ]
    },
    {
      "cell_type": "code",
      "metadata": {
        "id": "zi1pjLSGkzY0",
        "colab_type": "code",
        "colab": {}
      },
      "source": [
        "# gathering low frequency categories  another new category\n",
        "categories=[\"Religious worship\",\"Utility\",\"Food sales and service\",\"Technology/science\",\"Services\",\"Retail\",\"Manufacturing/industrial\",\"Warehouse/storage\",\"Parking\",\"Healthcare\",\"Other\"]\n",
        "BuildM_DF.loc[BuildM_DF.primary_use.isin(categories),'primary_use'] = 'others'\n",
        "BuildM_DF[\"primary_use\"] = BuildM_DF[\"primary_use\"].astype('category')\n",
        "BuildM_DF[\"primary_use\"] = BuildM_DF[\"primary_use\"].cat.codes\n",
        "BuildM_DF['primary_use'] = BuildM_DF.primary_use.astype(\"int64\")"
      ],
      "execution_count": 0,
      "outputs": []
    },
    {
      "cell_type": "code",
      "metadata": {
        "colab_type": "code",
        "id": "JLbyQMXtYuRh",
        "colab": {}
      },
      "source": [
        "#drop Year_built and floor_count columns.\n",
        "BuildM_DF = BuildM_DF.drop(columns=['year_built','floor_count'], axis=1)"
      ],
      "execution_count": 0,
      "outputs": []
    },
    {
      "cell_type": "code",
      "metadata": {
        "id": "st3NwfA0p15r",
        "colab_type": "code",
        "colab": {}
      },
      "source": [
        "# Replace missing values in the Weather Dataframe with the mean.\n",
        "Weather_train_DF['air_temperature'].fillna(Weather_train_DF['air_temperature'].mean(), inplace=True)\n",
        "Weather_train_DF['dew_temperature'].fillna(Weather_train_DF['dew_temperature'].mean(), inplace=True)\n",
        "Weather_train_DF['wind_speed'].fillna(Weather_train_DF['wind_speed'].mean(), inplace=True)\n",
        "Weather_train_DF['precip_depth_1_hr'].fillna(Weather_train_DF['precip_depth_1_hr'].mean(), inplace=True)\n",
        "Weather_train_DF['cloud_coverage'].fillna(Weather_train_DF['cloud_coverage'].mean(), inplace=True)\n",
        "Weather_train_DF['wind_direction'].fillna(Weather_train_DF['wind_direction'].mean(), inplace=True)\n",
        "Weather_train_DF['sea_level_pressure'].fillna(Weather_train_DF['sea_level_pressure'].mean(), inplace=True)"
      ],
      "execution_count": 0,
      "outputs": []
    },
    {
      "cell_type": "code",
      "metadata": {
        "id": "TSsfr-lUq8XB",
        "colab_type": "code",
        "outputId": "ec9a42a2-455b-4985-8fbf-dedd4851d0c4",
        "colab": {
          "base_uri": "https://localhost:8080/",
          "height": 187
        }
      },
      "source": [
        "Weather_train_DF.isnull().sum()\n"
      ],
      "execution_count": 6,
      "outputs": [
        {
          "output_type": "execute_result",
          "data": {
            "text/plain": [
              "site_id               0\n",
              "timestamp             0\n",
              "air_temperature       0\n",
              "cloud_coverage        0\n",
              "dew_temperature       0\n",
              "precip_depth_1_hr     0\n",
              "sea_level_pressure    0\n",
              "wind_direction        0\n",
              "wind_speed            0\n",
              "dtype: int64"
            ]
          },
          "metadata": {
            "tags": []
          },
          "execution_count": 6
        }
      ]
    },
    {
      "cell_type": "code",
      "metadata": {
        "id": "yuTsJ1MQq-7n",
        "colab_type": "code",
        "colab": {}
      },
      "source": [
        "# merge Train_DF , BuildM_DF and Weather_train_DF into one DataFrame.\n",
        "Train_DF = Train_DF.merge(BuildM_DF, on='building_id', how='left')\n",
        "Train_DF = Train_DF.merge(Weather_train_DF, on=['site_id', 'timestamp'], how='left')"
      ],
      "execution_count": 0,
      "outputs": []
    },
    {
      "cell_type": "code",
      "metadata": {
        "id": "AaPKXuEwt9sZ",
        "colab_type": "code",
        "colab": {
          "base_uri": "https://localhost:8080/",
          "height": 698
        },
        "outputId": "52280918-3169-4ad8-8c95-6ab1ef1bb31f"
      },
      "source": [
        "#Display the correlation matrix\n",
        "corrmat=Train_DF.corr()\n",
        "fig,ax=plt.subplots(figsize=(12,10))\n",
        "sns.heatmap(corrmat,annot=True,annot_kws={'size': 12})\n",
        "\n",
        "# Correlation matrix shows that air temperature is highly correlated with dew temperature, and wind direction is correlated with wind speed, thus, the feature dimension is reduced by dropping dew temperature and wind direction. \n"
      ],
      "execution_count": 9,
      "outputs": [
        {
          "output_type": "execute_result",
          "data": {
            "text/plain": [
              "<matplotlib.axes._subplots.AxesSubplot at 0x7f9e814a5dd8>"
            ]
          },
          "metadata": {
            "tags": []
          },
          "execution_count": 9
        },
        {
          "output_type": "display_data",
          "data": {
            "image/png": "[encoded data removed]",
            "text/plain": [
              "<Figure size 864x720 with 2 Axes>"
            ]
          },
          "metadata": {
            "tags": []
          }
        }
      ]
    },
    {
      "cell_type": "code",
      "metadata": {
        "id": "8Bba-eKqwhUS",
        "colab_type": "code",
        "colab": {}
      },
      "source": [
        "Train_DF = Train_DF.drop(columns=['dew_temperature','wind_direction'])"
      ],
      "execution_count": 0,
      "outputs": []
    },
    {
      "cell_type": "code",
      "metadata": {
        "id": "d5148OqwrIC7",
        "colab_type": "code",
        "colab": {}
      },
      "source": [
        "# The timestamp field of hourly measurements across 2016 is decomposed into “month”, “week”, “day” fields.\n",
        "\n",
        "Train_DF[\"datetime\"] = pd.to_datetime(Train_DF[\"timestamp\"])\n",
        "Train_DF[\"day\"] = Train_DF[\"datetime\"].dt.day\n",
        "Train_DF[\"week\"] = Train_DF[\"datetime\"].dt.week\n",
        "Train_DF[\"month\"] = Train_DF[\"datetime\"].dt.month\n",
        "    "
      ],
      "execution_count": 0,
      "outputs": []
    },
    {
      "cell_type": "code",
      "metadata": {
        "id": "wmW10JqHrmZT",
        "colab_type": "code",
        "colab": {}
      },
      "source": [
        "Train_DF = Train_DF.drop(columns=[ 'timestamp','datetime'], axis=1)\n"
      ],
      "execution_count": 0,
      "outputs": []
    },
    {
      "cell_type": "code",
      "metadata": {
        "id": "QUUM7bmh7Stk",
        "colab_type": "code",
        "outputId": "08761648-f26a-4e1f-d22c-d8a474de4f93",
        "colab": {
          "base_uri": "https://localhost:8080/",
          "height": 272
        }
      },
      "source": [
        "Train_DF.isnull().sum()\n",
        "# After the merge, some Nan values appears."
      ],
      "execution_count": 11,
      "outputs": [
        {
          "output_type": "execute_result",
          "data": {
            "text/plain": [
              "building_id               0\n",
              "meter                     0\n",
              "meter_reading             0\n",
              "site_id                   0\n",
              "primary_use               0\n",
              "square_feet               0\n",
              "air_temperature       90495\n",
              "cloud_coverage        90495\n",
              "precip_depth_1_hr     90495\n",
              "sea_level_pressure    90495\n",
              "wind_speed            90495\n",
              "day                       0\n",
              "week                      0\n",
              "month                     0\n",
              "dtype: int64"
            ]
          },
          "metadata": {
            "tags": []
          },
          "execution_count": 11
        }
      ]
    },
    {
      "cell_type": "code",
      "metadata": {
        "id": "4ioUEykk0bZV",
        "colab_type": "code",
        "colab": {
          "base_uri": "https://localhost:8080/",
          "height": 534
        },
        "outputId": "b70dcc4e-8e92-4eaf-8300-1a0a5fdc9529"
      },
      "source": [
        "#Identify the distribution of missing values\n",
        "fig, ax = plt.subplots(figsize=(15,7))\n",
        "sns.heatmap(Train_DF.isnull(), yticklabels=False, cmap='viridis')"
      ],
      "execution_count": 12,
      "outputs": [
        {
          "output_type": "execute_result",
          "data": {
            "text/plain": [
              "<matplotlib.axes._subplots.AxesSubplot at 0x7f15944eeda0>"
            ]
          },
          "metadata": {
            "tags": []
          },
          "execution_count": 12
        },
        {
          "output_type": "display_data",
          "data": {
            "image/png": "[encoded data removed]",
            "text/plain": [
              "<Figure size 1080x504 with 2 Axes>"
            ]
          },
          "metadata": {
            "tags": []
          }
        }
      ]
    },
    {
      "cell_type": "code",
      "metadata": {
        "id": "N9A96QjRAvaN",
        "colab_type": "code",
        "colab": {}
      },
      "source": [
        "#Droping samples containing Nan values doesn\"t affect the shape of the DataFrame.\n",
        "Train_DF= Train_DF.dropna()"
      ],
      "execution_count": 0,
      "outputs": []
    },
    {
      "cell_type": "code",
      "metadata": {
        "id": "PwVQ-bPnsgp6",
        "colab_type": "code",
        "colab": {}
      },
      "source": [
        "## Function to reduce the DF size\n",
        "def reduce_memory_usage(df, verbose=True):\n",
        "    numerics = ['int16', 'int32', 'int64', 'float16', 'float32', 'float64']\n",
        "    start_mem = df.memory_usage().sum() / 1024**2    \n",
        "    for col in df.columns:\n",
        "        col_type = df[col].dtypes\n",
        "        if col_type in numerics:\n",
        "            c_min = df[col].min()\n",
        "            c_max = df[col].max()\n",
        "            if str(col_type)[:3] == 'int':\n",
        "                if c_min > np.iinfo(np.int8).min and c_max < np.iinfo(np.int8).max:\n",
        "                    df[col] = df[col].astype(np.int8)\n",
        "                elif c_min > np.iinfo(np.int16).min and c_max < np.iinfo(np.int16).max:\n",
        "                    df[col] = df[col].astype(np.int16)\n",
        "                elif c_min > np.iinfo(np.int32).min and c_max < np.iinfo(np.int32).max:\n",
        "                    df[col] = df[col].astype(np.int32)\n",
        "                elif c_min > np.iinfo(np.int64).min and c_max < np.iinfo(np.int64).max:\n",
        "                    df[col] = df[col].astype(np.int64)  \n",
        "            else:\n",
        "                if c_min > np.finfo(np.float16).min and c_max < np.finfo(np.float16).max:\n",
        "                    df[col] = df[col].astype(np.float16)\n",
        "                elif c_min > np.finfo(np.float32).min and c_max < np.finfo(np.float32).max:\n",
        "                    df[col] = df[col].astype(np.float32)\n",
        "                else:\n",
        "                    df[col] = df[col].astype(np.float64)    \n",
        "    end_mem = df.memory_usage().sum() / 1024**2\n",
        "    if verbose: print('Mem. usage decreased to {:5.2f} Mb ({:.1f}% reduction)'.format(end_mem, 100 * (start_mem - end_mem) / start_mem))\n",
        "    return df"
      ],
      "execution_count": 0,
      "outputs": []
    },
    {
      "cell_type": "code",
      "metadata": {
        "id": "v5KFrI8wsq7I",
        "colab_type": "code",
        "outputId": "c7ea7cab-c185-4f0e-a327-834cbe467499",
        "colab": {
          "base_uri": "https://localhost:8080/",
          "height": 456
        }
      },
      "source": [
        "reduce_memory_usage(Train_DF)"
      ],
      "execution_count": 12,
      "outputs": [
        {
          "output_type": "stream",
          "text": [
            "Mem. usage decreased to 652.57 Mb (71.7% reduction)\n"
          ],
          "name": "stdout"
        },
        {
          "output_type": "execute_result",
          "data": {
            "text/html": [
              "<div>\n",
              "<style scoped>\n",
              "    .dataframe tbody tr th:only-of-type {\n",
              "        vertical-align: middle;\n",
              "    }\n",
              "\n",
              "    .dataframe tbody tr th {\n",
              "        vertical-align: top;\n",
              "    }\n",
              "\n",
              "    .dataframe thead th {\n",
              "        text-align: right;\n",
              "    }\n",
              "</style>\n",
              "<table border=\"1\" class=\"dataframe\">\n",
              "  <thead>\n",
              "    <tr style=\"text-align: right;\">\n",
              "      <th></th>\n",
              "      <th>building_id</th>\n",
              "      <th>meter</th>\n",
              "      <th>meter_reading</th>\n",
              "      <th>site_id</th>\n",
              "      <th>primary_use</th>\n",
              "      <th>square_feet</th>\n",
              "      <th>air_temperature</th>\n",
              "      <th>cloud_coverage</th>\n",
              "      <th>precip_depth_1_hr</th>\n",
              "      <th>sea_level_pressure</th>\n",
              "      <th>wind_speed</th>\n",
              "      <th>day</th>\n",
              "      <th>week</th>\n",
              "      <th>month</th>\n",
              "    </tr>\n",
              "  </thead>\n",
              "  <tbody>\n",
              "    <tr>\n",
              "      <th>0</th>\n",
              "      <td>0</td>\n",
              "      <td>0</td>\n",
              "      <td>0.000000</td>\n",
              "      <td>0</td>\n",
              "      <td>0</td>\n",
              "      <td>7432</td>\n",
              "      <td>25.000000</td>\n",
              "      <td>6.000000</td>\n",
              "      <td>0.98291</td>\n",
              "      <td>1019.5</td>\n",
              "      <td>0.000000</td>\n",
              "      <td>1</td>\n",
              "      <td>53</td>\n",
              "      <td>1</td>\n",
              "    </tr>\n",
              "    <tr>\n",
              "      <th>1</th>\n",
              "      <td>1</td>\n",
              "      <td>0</td>\n",
              "      <td>0.000000</td>\n",
              "      <td>0</td>\n",
              "      <td>0</td>\n",
              "      <td>2720</td>\n",
              "      <td>25.000000</td>\n",
              "      <td>6.000000</td>\n",
              "      <td>0.98291</td>\n",
              "      <td>1019.5</td>\n",
              "      <td>0.000000</td>\n",
              "      <td>1</td>\n",
              "      <td>53</td>\n",
              "      <td>1</td>\n",
              "    </tr>\n",
              "    <tr>\n",
              "      <th>2</th>\n",
              "      <td>2</td>\n",
              "      <td>0</td>\n",
              "      <td>0.000000</td>\n",
              "      <td>0</td>\n",
              "      <td>0</td>\n",
              "      <td>5376</td>\n",
              "      <td>25.000000</td>\n",
              "      <td>6.000000</td>\n",
              "      <td>0.98291</td>\n",
              "      <td>1019.5</td>\n",
              "      <td>0.000000</td>\n",
              "      <td>1</td>\n",
              "      <td>53</td>\n",
              "      <td>1</td>\n",
              "    </tr>\n",
              "    <tr>\n",
              "      <th>3</th>\n",
              "      <td>3</td>\n",
              "      <td>0</td>\n",
              "      <td>0.000000</td>\n",
              "      <td>0</td>\n",
              "      <td>0</td>\n",
              "      <td>23685</td>\n",
              "      <td>25.000000</td>\n",
              "      <td>6.000000</td>\n",
              "      <td>0.98291</td>\n",
              "      <td>1019.5</td>\n",
              "      <td>0.000000</td>\n",
              "      <td>1</td>\n",
              "      <td>53</td>\n",
              "      <td>1</td>\n",
              "    </tr>\n",
              "    <tr>\n",
              "      <th>4</th>\n",
              "      <td>4</td>\n",
              "      <td>0</td>\n",
              "      <td>0.000000</td>\n",
              "      <td>0</td>\n",
              "      <td>0</td>\n",
              "      <td>116607</td>\n",
              "      <td>25.000000</td>\n",
              "      <td>6.000000</td>\n",
              "      <td>0.98291</td>\n",
              "      <td>1019.5</td>\n",
              "      <td>0.000000</td>\n",
              "      <td>1</td>\n",
              "      <td>53</td>\n",
              "      <td>1</td>\n",
              "    </tr>\n",
              "    <tr>\n",
              "      <th>...</th>\n",
              "      <td>...</td>\n",
              "      <td>...</td>\n",
              "      <td>...</td>\n",
              "      <td>...</td>\n",
              "      <td>...</td>\n",
              "      <td>...</td>\n",
              "      <td>...</td>\n",
              "      <td>...</td>\n",
              "      <td>...</td>\n",
              "      <td>...</td>\n",
              "      <td>...</td>\n",
              "      <td>...</td>\n",
              "      <td>...</td>\n",
              "      <td>...</td>\n",
              "    </tr>\n",
              "    <tr>\n",
              "      <th>20216095</th>\n",
              "      <td>1444</td>\n",
              "      <td>0</td>\n",
              "      <td>8.750000</td>\n",
              "      <td>15</td>\n",
              "      <td>1</td>\n",
              "      <td>19619</td>\n",
              "      <td>1.700195</td>\n",
              "      <td>2.148438</td>\n",
              "      <td>-1.00000</td>\n",
              "      <td>1008.5</td>\n",
              "      <td>8.796875</td>\n",
              "      <td>31</td>\n",
              "      <td>52</td>\n",
              "      <td>12</td>\n",
              "    </tr>\n",
              "    <tr>\n",
              "      <th>20216096</th>\n",
              "      <td>1445</td>\n",
              "      <td>0</td>\n",
              "      <td>4.825000</td>\n",
              "      <td>15</td>\n",
              "      <td>0</td>\n",
              "      <td>4298</td>\n",
              "      <td>1.700195</td>\n",
              "      <td>2.148438</td>\n",
              "      <td>-1.00000</td>\n",
              "      <td>1008.5</td>\n",
              "      <td>8.796875</td>\n",
              "      <td>31</td>\n",
              "      <td>52</td>\n",
              "      <td>12</td>\n",
              "    </tr>\n",
              "    <tr>\n",
              "      <th>20216097</th>\n",
              "      <td>1446</td>\n",
              "      <td>0</td>\n",
              "      <td>0.000000</td>\n",
              "      <td>15</td>\n",
              "      <td>1</td>\n",
              "      <td>11265</td>\n",
              "      <td>1.700195</td>\n",
              "      <td>2.148438</td>\n",
              "      <td>-1.00000</td>\n",
              "      <td>1008.5</td>\n",
              "      <td>8.796875</td>\n",
              "      <td>31</td>\n",
              "      <td>52</td>\n",
              "      <td>12</td>\n",
              "    </tr>\n",
              "    <tr>\n",
              "      <th>20216098</th>\n",
              "      <td>1447</td>\n",
              "      <td>0</td>\n",
              "      <td>159.574997</td>\n",
              "      <td>15</td>\n",
              "      <td>2</td>\n",
              "      <td>29775</td>\n",
              "      <td>1.700195</td>\n",
              "      <td>2.148438</td>\n",
              "      <td>-1.00000</td>\n",
              "      <td>1008.5</td>\n",
              "      <td>8.796875</td>\n",
              "      <td>31</td>\n",
              "      <td>52</td>\n",
              "      <td>12</td>\n",
              "    </tr>\n",
              "    <tr>\n",
              "      <th>20216099</th>\n",
              "      <td>1448</td>\n",
              "      <td>0</td>\n",
              "      <td>2.850000</td>\n",
              "      <td>15</td>\n",
              "      <td>3</td>\n",
              "      <td>92271</td>\n",
              "      <td>1.700195</td>\n",
              "      <td>2.148438</td>\n",
              "      <td>-1.00000</td>\n",
              "      <td>1008.5</td>\n",
              "      <td>8.796875</td>\n",
              "      <td>31</td>\n",
              "      <td>52</td>\n",
              "      <td>12</td>\n",
              "    </tr>\n",
              "  </tbody>\n",
              "</table>\n",
              "<p>20125605 rows × 14 columns</p>\n",
              "</div>"
            ],
            "text/plain": [
              "          building_id  meter  meter_reading  ...  day  week  month\n",
              "0                   0      0       0.000000  ...    1    53      1\n",
              "1                   1      0       0.000000  ...    1    53      1\n",
              "2                   2      0       0.000000  ...    1    53      1\n",
              "3                   3      0       0.000000  ...    1    53      1\n",
              "4                   4      0       0.000000  ...    1    53      1\n",
              "...               ...    ...            ...  ...  ...   ...    ...\n",
              "20216095         1444      0       8.750000  ...   31    52     12\n",
              "20216096         1445      0       4.825000  ...   31    52     12\n",
              "20216097         1446      0       0.000000  ...   31    52     12\n",
              "20216098         1447      0     159.574997  ...   31    52     12\n",
              "20216099         1448      0       2.850000  ...   31    52     12\n",
              "\n",
              "[20125605 rows x 14 columns]"
            ]
          },
          "metadata": {
            "tags": []
          },
          "execution_count": 12
        }
      ]
    },
    {
      "cell_type": "markdown",
      "metadata": {
        "id": "YIFcOGOts985",
        "colab_type": "text"
      },
      "source": [
        "# Split Train_Test"
      ]
    },
    {
      "cell_type": "code",
      "metadata": {
        "id": "cGdgZaCqs2-5",
        "colab_type": "code",
        "outputId": "e0c92e8a-3414-4b21-97bb-47bca09288bc",
        "colab": {
          "base_uri": "https://localhost:8080/",
          "height": 224
        }
      },
      "source": [
        "#We Split the training dataset into two sets : train_df and test_df.\n",
        "# train_df is used to train the model\n",
        "# test_df is used to test it. \n",
        "from sklearn.model_selection import train_test_split\n",
        "train_df,test_df = train_test_split(Train_DF, test_size=0.2, random_state=45)\n",
        "train_df.head()"
      ],
      "execution_count": 16,
      "outputs": [
        {
          "output_type": "execute_result",
          "data": {
            "text/html": [
              "<div>\n",
              "<style scoped>\n",
              "    .dataframe tbody tr th:only-of-type {\n",
              "        vertical-align: middle;\n",
              "    }\n",
              "\n",
              "    .dataframe tbody tr th {\n",
              "        vertical-align: top;\n",
              "    }\n",
              "\n",
              "    .dataframe thead th {\n",
              "        text-align: right;\n",
              "    }\n",
              "</style>\n",
              "<table border=\"1\" class=\"dataframe\">\n",
              "  <thead>\n",
              "    <tr style=\"text-align: right;\">\n",
              "      <th></th>\n",
              "      <th>building_id</th>\n",
              "      <th>meter</th>\n",
              "      <th>meter_reading</th>\n",
              "      <th>site_id</th>\n",
              "      <th>primary_use</th>\n",
              "      <th>square_feet</th>\n",
              "      <th>air_temperature</th>\n",
              "      <th>cloud_coverage</th>\n",
              "      <th>precip_depth_1_hr</th>\n",
              "      <th>sea_level_pressure</th>\n",
              "      <th>wind_speed</th>\n",
              "      <th>day</th>\n",
              "      <th>week</th>\n",
              "      <th>month</th>\n",
              "    </tr>\n",
              "  </thead>\n",
              "  <tbody>\n",
              "    <tr>\n",
              "      <th>9659130</th>\n",
              "      <td>179</td>\n",
              "      <td>1</td>\n",
              "      <td>222.757004</td>\n",
              "      <td>2</td>\n",
              "      <td>5</td>\n",
              "      <td>24867</td>\n",
              "      <td>35.593750</td>\n",
              "      <td>6.000000</td>\n",
              "      <td>0.0</td>\n",
              "      <td>1010.5</td>\n",
              "      <td>4.101562</td>\n",
              "      <td>26</td>\n",
              "      <td>25</td>\n",
              "      <td>6</td>\n",
              "    </tr>\n",
              "    <tr>\n",
              "      <th>194120</th>\n",
              "      <td>890</td>\n",
              "      <td>0</td>\n",
              "      <td>436.000000</td>\n",
              "      <td>9</td>\n",
              "      <td>0</td>\n",
              "      <td>202937</td>\n",
              "      <td>3.300781</td>\n",
              "      <td>0.000000</td>\n",
              "      <td>0.0</td>\n",
              "      <td>1027.0</td>\n",
              "      <td>2.599609</td>\n",
              "      <td>4</td>\n",
              "      <td>1</td>\n",
              "      <td>1</td>\n",
              "    </tr>\n",
              "    <tr>\n",
              "      <th>10908162</th>\n",
              "      <td>1311</td>\n",
              "      <td>0</td>\n",
              "      <td>48.945801</td>\n",
              "      <td>14</td>\n",
              "      <td>2</td>\n",
              "      <td>66794</td>\n",
              "      <td>26.703125</td>\n",
              "      <td>0.000000</td>\n",
              "      <td>0.0</td>\n",
              "      <td>1015.5</td>\n",
              "      <td>3.099609</td>\n",
              "      <td>18</td>\n",
              "      <td>29</td>\n",
              "      <td>7</td>\n",
              "    </tr>\n",
              "    <tr>\n",
              "      <th>15059245</th>\n",
              "      <td>1119</td>\n",
              "      <td>2</td>\n",
              "      <td>0.000000</td>\n",
              "      <td>13</td>\n",
              "      <td>3</td>\n",
              "      <td>119509</td>\n",
              "      <td>18.296875</td>\n",
              "      <td>2.148438</td>\n",
              "      <td>0.0</td>\n",
              "      <td>1023.0</td>\n",
              "      <td>4.601562</td>\n",
              "      <td>1</td>\n",
              "      <td>39</td>\n",
              "      <td>10</td>\n",
              "    </tr>\n",
              "    <tr>\n",
              "      <th>1097070</th>\n",
              "      <td>224</td>\n",
              "      <td>0</td>\n",
              "      <td>544.150024</td>\n",
              "      <td>2</td>\n",
              "      <td>0</td>\n",
              "      <td>272278</td>\n",
              "      <td>20.000000</td>\n",
              "      <td>2.000000</td>\n",
              "      <td>0.0</td>\n",
              "      <td>1018.0</td>\n",
              "      <td>1.500000</td>\n",
              "      <td>20</td>\n",
              "      <td>3</td>\n",
              "      <td>1</td>\n",
              "    </tr>\n",
              "  </tbody>\n",
              "</table>\n",
              "</div>"
            ],
            "text/plain": [
              "          building_id  meter  meter_reading  ...  day  week  month\n",
              "9659130           179      1     222.757004  ...   26    25      6\n",
              "194120            890      0     436.000000  ...    4     1      1\n",
              "10908162         1311      0      48.945801  ...   18    29      7\n",
              "15059245         1119      2       0.000000  ...    1    39     10\n",
              "1097070           224      0     544.150024  ...   20     3      1\n",
              "\n",
              "[5 rows x 14 columns]"
            ]
          },
          "metadata": {
            "tags": []
          },
          "execution_count": 16
        }
      ]
    },
    {
      "cell_type": "code",
      "metadata": {
        "id": "sa04iEgq3ma_",
        "colab_type": "code",
        "colab": {}
      },
      "source": [
        "# x_train is the input of the model. It contains the features samples. y_train is the target variable 'meter_reading'\n",
        "y_train = train_df['meter_reading']\n",
        "x_train = train_df.drop(columns=['meter_reading'])\n",
        "y_test = test_df['meter_reading']\n",
        "x_test = test_df.drop(columns=['meter_reading'])"
      ],
      "execution_count": 0,
      "outputs": []
    },
    {
      "cell_type": "code",
      "metadata": {
        "id": "ElQBpZW34KgX",
        "colab_type": "code",
        "colab": {
          "base_uri": "https://localhost:8080/",
          "height": 439
        },
        "outputId": "29f8eb1e-bb81-43be-bbb9-b65739e8ca7e"
      },
      "source": [
        "x_train"
      ],
      "execution_count": 18,
      "outputs": [
        {
          "output_type": "execute_result",
          "data": {
            "text/html": [
              "<div>\n",
              "<style scoped>\n",
              "    .dataframe tbody tr th:only-of-type {\n",
              "        vertical-align: middle;\n",
              "    }\n",
              "\n",
              "    .dataframe tbody tr th {\n",
              "        vertical-align: top;\n",
              "    }\n",
              "\n",
              "    .dataframe thead th {\n",
              "        text-align: right;\n",
              "    }\n",
              "</style>\n",
              "<table border=\"1\" class=\"dataframe\">\n",
              "  <thead>\n",
              "    <tr style=\"text-align: right;\">\n",
              "      <th></th>\n",
              "      <th>building_id</th>\n",
              "      <th>meter</th>\n",
              "      <th>site_id</th>\n",
              "      <th>primary_use</th>\n",
              "      <th>square_feet</th>\n",
              "      <th>air_temperature</th>\n",
              "      <th>cloud_coverage</th>\n",
              "      <th>precip_depth_1_hr</th>\n",
              "      <th>sea_level_pressure</th>\n",
              "      <th>wind_speed</th>\n",
              "      <th>day</th>\n",
              "      <th>week</th>\n",
              "      <th>month</th>\n",
              "    </tr>\n",
              "  </thead>\n",
              "  <tbody>\n",
              "    <tr>\n",
              "      <th>9659130</th>\n",
              "      <td>179</td>\n",
              "      <td>1</td>\n",
              "      <td>2</td>\n",
              "      <td>5</td>\n",
              "      <td>24867</td>\n",
              "      <td>35.593750</td>\n",
              "      <td>6.000000</td>\n",
              "      <td>0.0</td>\n",
              "      <td>1010.5</td>\n",
              "      <td>4.101562</td>\n",
              "      <td>26</td>\n",
              "      <td>25</td>\n",
              "      <td>6</td>\n",
              "    </tr>\n",
              "    <tr>\n",
              "      <th>194120</th>\n",
              "      <td>890</td>\n",
              "      <td>0</td>\n",
              "      <td>9</td>\n",
              "      <td>0</td>\n",
              "      <td>202937</td>\n",
              "      <td>3.300781</td>\n",
              "      <td>0.000000</td>\n",
              "      <td>0.0</td>\n",
              "      <td>1027.0</td>\n",
              "      <td>2.599609</td>\n",
              "      <td>4</td>\n",
              "      <td>1</td>\n",
              "      <td>1</td>\n",
              "    </tr>\n",
              "    <tr>\n",
              "      <th>10908162</th>\n",
              "      <td>1311</td>\n",
              "      <td>0</td>\n",
              "      <td>14</td>\n",
              "      <td>2</td>\n",
              "      <td>66794</td>\n",
              "      <td>26.703125</td>\n",
              "      <td>0.000000</td>\n",
              "      <td>0.0</td>\n",
              "      <td>1015.5</td>\n",
              "      <td>3.099609</td>\n",
              "      <td>18</td>\n",
              "      <td>29</td>\n",
              "      <td>7</td>\n",
              "    </tr>\n",
              "    <tr>\n",
              "      <th>15059245</th>\n",
              "      <td>1119</td>\n",
              "      <td>2</td>\n",
              "      <td>13</td>\n",
              "      <td>3</td>\n",
              "      <td>119509</td>\n",
              "      <td>18.296875</td>\n",
              "      <td>2.148438</td>\n",
              "      <td>0.0</td>\n",
              "      <td>1023.0</td>\n",
              "      <td>4.601562</td>\n",
              "      <td>1</td>\n",
              "      <td>39</td>\n",
              "      <td>10</td>\n",
              "    </tr>\n",
              "    <tr>\n",
              "      <th>1097070</th>\n",
              "      <td>224</td>\n",
              "      <td>0</td>\n",
              "      <td>2</td>\n",
              "      <td>0</td>\n",
              "      <td>272278</td>\n",
              "      <td>20.000000</td>\n",
              "      <td>2.000000</td>\n",
              "      <td>0.0</td>\n",
              "      <td>1018.0</td>\n",
              "      <td>1.500000</td>\n",
              "      <td>20</td>\n",
              "      <td>3</td>\n",
              "      <td>1</td>\n",
              "    </tr>\n",
              "    <tr>\n",
              "      <th>...</th>\n",
              "      <td>...</td>\n",
              "      <td>...</td>\n",
              "      <td>...</td>\n",
              "      <td>...</td>\n",
              "      <td>...</td>\n",
              "      <td>...</td>\n",
              "      <td>...</td>\n",
              "      <td>...</td>\n",
              "      <td>...</td>\n",
              "      <td>...</td>\n",
              "      <td>...</td>\n",
              "      <td>...</td>\n",
              "      <td>...</td>\n",
              "    </tr>\n",
              "    <tr>\n",
              "      <th>2508447</th>\n",
              "      <td>1185</td>\n",
              "      <td>1</td>\n",
              "      <td>13</td>\n",
              "      <td>3</td>\n",
              "      <td>129532</td>\n",
              "      <td>-0.600098</td>\n",
              "      <td>8.000000</td>\n",
              "      <td>0.0</td>\n",
              "      <td>1006.5</td>\n",
              "      <td>4.101562</td>\n",
              "      <td>16</td>\n",
              "      <td>7</td>\n",
              "      <td>2</td>\n",
              "    </tr>\n",
              "    <tr>\n",
              "      <th>17812702</th>\n",
              "      <td>1249</td>\n",
              "      <td>0</td>\n",
              "      <td>14</td>\n",
              "      <td>3</td>\n",
              "      <td>159384</td>\n",
              "      <td>11.703125</td>\n",
              "      <td>0.000000</td>\n",
              "      <td>0.0</td>\n",
              "      <td>1017.0</td>\n",
              "      <td>1.500000</td>\n",
              "      <td>19</td>\n",
              "      <td>46</td>\n",
              "      <td>11</td>\n",
              "    </tr>\n",
              "    <tr>\n",
              "      <th>867999</th>\n",
              "      <td>750</td>\n",
              "      <td>0</td>\n",
              "      <td>6</td>\n",
              "      <td>0</td>\n",
              "      <td>35990</td>\n",
              "      <td>12.796875</td>\n",
              "      <td>2.148438</td>\n",
              "      <td>0.0</td>\n",
              "      <td>1003.0</td>\n",
              "      <td>4.101562</td>\n",
              "      <td>16</td>\n",
              "      <td>2</td>\n",
              "      <td>1</td>\n",
              "    </tr>\n",
              "    <tr>\n",
              "      <th>11528968</th>\n",
              "      <td>549</td>\n",
              "      <td>0</td>\n",
              "      <td>3</td>\n",
              "      <td>4</td>\n",
              "      <td>12754</td>\n",
              "      <td>28.906250</td>\n",
              "      <td>2.000000</td>\n",
              "      <td>0.0</td>\n",
              "      <td>1012.5</td>\n",
              "      <td>3.099609</td>\n",
              "      <td>30</td>\n",
              "      <td>30</td>\n",
              "      <td>7</td>\n",
              "    </tr>\n",
              "    <tr>\n",
              "      <th>20003809</th>\n",
              "      <td>214</td>\n",
              "      <td>1</td>\n",
              "      <td>2</td>\n",
              "      <td>0</td>\n",
              "      <td>91273</td>\n",
              "      <td>11.703125</td>\n",
              "      <td>6.000000</td>\n",
              "      <td>0.0</td>\n",
              "      <td>1021.5</td>\n",
              "      <td>0.000000</td>\n",
              "      <td>28</td>\n",
              "      <td>52</td>\n",
              "      <td>12</td>\n",
              "    </tr>\n",
              "  </tbody>\n",
              "</table>\n",
              "<p>16100484 rows × 13 columns</p>\n",
              "</div>"
            ],
            "text/plain": [
              "          building_id  meter  site_id  ...  day  week  month\n",
              "9659130           179      1        2  ...   26    25      6\n",
              "194120            890      0        9  ...    4     1      1\n",
              "10908162         1311      0       14  ...   18    29      7\n",
              "15059245         1119      2       13  ...    1    39     10\n",
              "1097070           224      0        2  ...   20     3      1\n",
              "...               ...    ...      ...  ...  ...   ...    ...\n",
              "2508447          1185      1       13  ...   16     7      2\n",
              "17812702         1249      0       14  ...   19    46     11\n",
              "867999            750      0        6  ...   16     2      1\n",
              "11528968          549      0        3  ...   30    30      7\n",
              "20003809          214      1        2  ...   28    52     12\n",
              "\n",
              "[16100484 rows x 13 columns]"
            ]
          },
          "metadata": {
            "tags": []
          },
          "execution_count": 18
        }
      ]
    },
    {
      "cell_type": "markdown",
      "metadata": {
        "id": "3yDy47CbxnGt",
        "colab_type": "text"
      },
      "source": [
        "# Run and evaluate Model"
      ]
    },
    {
      "cell_type": "code",
      "metadata": {
        "id": "fZw6sIJOxsHm",
        "colab_type": "code",
        "outputId": "1abc0e1f-66b6-4f04-f3ac-ba42043f6064",
        "colab": {
          "base_uri": "https://localhost:8080/",
          "height": 80
        }
      },
      "source": [
        "from sklearn import preprocessing\n",
        "from keras import backend as K\n",
        "from keras.callbacks import EarlyStopping\n",
        "from keras.layers import Dense, LSTM, Dropout, BatchNormalization\n",
        "from keras.models import Sequential\n",
        "from keras.optimizers import RMSprop,Adam\n",
        "from keras import regularizers\n"
      ],
      "execution_count": 58,
      "outputs": [
        {
          "output_type": "stream",
          "text": [
            "Using TensorFlow backend.\n"
          ],
          "name": "stderr"
        },
        {
          "output_type": "display_data",
          "data": {
            "text/html": [
              "<p style=\"color: red;\">\n",
              "The default version of TensorFlow in Colab will soon switch to TensorFlow 2.x.<br>\n",
              "We recommend you <a href=\"https://www.tensorflow.org/guide/migrate\" target=\"_blank\">upgrade</a> now \n",
              "or ensure your notebook will continue to use TensorFlow 1.x via the <code>%tensorflow_version 1.x</code> magic:\n",
              "<a href=\"https://colab.research.google.com/notebooks/tensorflow_version.ipynb\" target=\"_blank\">more info</a>.</p>\n"
            ],
            "text/plain": [
              "<IPython.core.display.HTML object>"
            ]
          },
          "metadata": {
            "tags": []
          }
        }
      ]
    },
    {
      "cell_type": "code",
      "metadata": {
        "id": "X0l4qy_3xxOD",
        "colab_type": "code",
        "colab": {}
      },
      "source": [
        "#Early stopping is basically stopping the training once your loss starts to increase\n",
        "es = EarlyStopping(monitor='val_loss', min_delta=0.0001, patience=5, verbose=True, mode='auto')"
      ],
      "execution_count": 0,
      "outputs": []
    },
    {
      "cell_type": "code",
      "metadata": {
        "id": "kxCdZX_QyMzS",
        "colab_type": "code",
        "colab": {}
      },
      "source": [
        "def root_mean_squared_error(y_true, y_pred):\n",
        "  return K.sqrt(K.mean(K.square(y_pred - y_true)))\n",
        "  \n",
        "metrics=root_mean_squared_error\n"
      ],
      "execution_count": 0,
      "outputs": []
    },
    {
      "cell_type": "code",
      "metadata": {
        "id": "5E_4uq1p8ayv",
        "colab_type": "code",
        "colab": {}
      },
      "source": [
        "def make_model(input_dim=9,metrics=root_mean_squared_error,loss='mse', optimizer=\"rmsprop\",drop_rate=0.2):\n",
        "\n",
        "  model = Sequential()\n",
        "  model.add(LSTM(128,return_sequences=True, input_shape=(None,input_dim)))\n",
        "  model.add(Dropout(drop_rate))\n",
        "  model.add(BatchNormalization())\n",
        "\n",
        "  model.add(LSTM(128,return_sequences=False))\n",
        "  model.add(BatchNormalization())\n",
        "  model.add(Dropout(drop_rate))\n",
        "\n",
        "  model.add(Dense(1))\n",
        "  model.compile(optimizer=optimizer, loss=loss, metrics=[metrics])\n",
        "  \n",
        "  return model"
      ],
      "execution_count": 0,
      "outputs": []
    },
    {
      "cell_type": "code",
      "metadata": {
        "id": "Ti-7UAW68dlr",
        "colab_type": "code",
        "colab": {}
      },
      "source": [
        "def run_model(model,x_train,y_train,epochs=50,batch_size=500,verbose=1,validation_data=(x_test,y_test),callbacks =None):\n",
        "  x_train = x_train.values[:]\n",
        "  x_train= x_train.reshape((x_train.shape[0],1,x_train.shape[-1]))\n",
        "  y_train = np.log1p(y_train)\n",
        "  if validation_data != None:\n",
        "    x_test = validation_data[0].values[:]\n",
        "    x_test = x_test.reshape((x_test.shape[0],1,x_test.shape[-1]))\n",
        "    y_test = np.log1p(validation_data[-1])\n",
        "      \n",
        "  return model.fit(x_train,y_train,epochs=epochs,batch_size=batch_size,verbose=verbose,validation_data=(x_test,y_test),callbacks=callbacks)"
      ],
      "execution_count": 0,
      "outputs": []
    },
    {
      "cell_type": "code",
      "metadata": {
        "id": "oE_PeaWk9uYZ",
        "colab_type": "code",
        "colab": {}
      },
      "source": [
        "model3 = make_model(input_dim=13,drop_rate=0.2)"
      ],
      "execution_count": 0,
      "outputs": []
    },
    {
      "cell_type": "code",
      "metadata": {
        "id": "qePWMiDq-Jql",
        "colab_type": "code",
        "outputId": "ea7dcab1-da76-4a46-b8fa-0f172d14029c",
        "colab": {
          "base_uri": "https://localhost:8080/",
          "height": 391
        }
      },
      "source": [
        "model3.summary()"
      ],
      "execution_count": 69,
      "outputs": [
        {
          "output_type": "stream",
          "text": [
            "Model: \"sequential_2\"\n",
            "_________________________________________________________________\n",
            "Layer (type)                 Output Shape              Param #   \n",
            "=================================================================\n",
            "lstm_3 (LSTM)                (None, None, 128)         72704     \n",
            "_________________________________________________________________\n",
            "dropout_3 (Dropout)          (None, None, 128)         0         \n",
            "_________________________________________________________________\n",
            "batch_normalization_3 (Batch (None, None, 128)         512       \n",
            "_________________________________________________________________\n",
            "lstm_4 (LSTM)                (None, 128)               131584    \n",
            "_________________________________________________________________\n",
            "batch_normalization_4 (Batch (None, 128)               512       \n",
            "_________________________________________________________________\n",
            "dropout_4 (Dropout)          (None, 128)               0         \n",
            "_________________________________________________________________\n",
            "dense_2 (Dense)              (None, 1)                 129       \n",
            "=================================================================\n",
            "Total params: 205,441\n",
            "Trainable params: 204,929\n",
            "Non-trainable params: 512\n",
            "_________________________________________________________________\n"
          ],
          "name": "stdout"
        }
      ]
    },
    {
      "cell_type": "code",
      "metadata": {
        "colab_type": "code",
        "outputId": "0b95a936-f092-4fc7-d777-5a0a027e2eec",
        "id": "ay-BqoXmkCMV",
        "colab": {
          "base_uri": "https://localhost:8080/",
          "height": 547
        }
      },
      "source": [
        "history2 = run_model(model3,x_train,y_train,epochs=5,batch_size=500,verbose=1,validation_data=(x_test,y_test), callbacks =[es]) "
      ],
      "execution_count": 0,
      "outputs": [
        {
          "output_type": "stream",
          "text": [
            "WARNING:tensorflow:From /usr/local/lib/python3.6/dist-packages/tensorflow_core/python/ops/math_grad.py:1424: where (from tensorflow.python.ops.array_ops) is deprecated and will be removed in a future version.\n",
            "Instructions for updating:\n",
            "Use tf.where in 2.0, which has the same broadcast rule as np.where\n",
            "WARNING:tensorflow:From /usr/local/lib/python3.6/dist-packages/keras/backend/tensorflow_backend.py:1033: The name tf.assign_add is deprecated. Please use tf.compat.v1.assign_add instead.\n",
            "\n",
            "WARNING:tensorflow:From /usr/local/lib/python3.6/dist-packages/keras/backend/tensorflow_backend.py:1020: The name tf.assign is deprecated. Please use tf.compat.v1.assign instead.\n",
            "\n",
            "WARNING:tensorflow:From /usr/local/lib/python3.6/dist-packages/keras/backend/tensorflow_backend.py:3005: The name tf.Session is deprecated. Please use tf.compat.v1.Session instead.\n",
            "\n",
            "Train on 16100484 samples, validate on 4025121 samples\n",
            "Epoch 1/5\n",
            "WARNING:tensorflow:From /usr/local/lib/python3.6/dist-packages/keras/backend/tensorflow_backend.py:190: The name tf.get_default_session is deprecated. Please use tf.compat.v1.get_default_session instead.\n",
            "\n",
            "WARNING:tensorflow:From /usr/local/lib/python3.6/dist-packages/keras/backend/tensorflow_backend.py:197: The name tf.ConfigProto is deprecated. Please use tf.compat.v1.ConfigProto instead.\n",
            "\n",
            "WARNING:tensorflow:From /usr/local/lib/python3.6/dist-packages/keras/backend/tensorflow_backend.py:207: The name tf.global_variables is deprecated. Please use tf.compat.v1.global_variables instead.\n",
            "\n",
            "WARNING:tensorflow:From /usr/local/lib/python3.6/dist-packages/keras/backend/tensorflow_backend.py:216: The name tf.is_variable_initialized is deprecated. Please use tf.compat.v1.is_variable_initialized instead.\n",
            "\n",
            "WARNING:tensorflow:From /usr/local/lib/python3.6/dist-packages/keras/backend/tensorflow_backend.py:223: The name tf.variables_initializer is deprecated. Please use tf.compat.v1.variables_initializer instead.\n",
            "\n",
            "16100484/16100484 [==============================] - 748s 46us/step - loss: 4.6163 - root_mean_squared_error: 2.1452 - val_loss: 4.5666 - val_root_mean_squared_error: 2.1359\n",
            "Epoch 2/5\n",
            "16100484/16100484 [==============================] - 743s 46us/step - loss: 4.5717 - root_mean_squared_error: 2.1371 - val_loss: 4.5674 - val_root_mean_squared_error: 2.1361\n",
            "Epoch 3/5\n",
            "16100484/16100484 [==============================] - 718s 45us/step - loss: 4.5674 - root_mean_squared_error: 2.1361 - val_loss: 4.5749 - val_root_mean_squared_error: 2.1378\n",
            "Epoch 4/5\n",
            "16100484/16100484 [==============================] - 747s 46us/step - loss: 4.5656 - root_mean_squared_error: 2.1357 - val_loss: 4.5686 - val_root_mean_squared_error: 2.1364\n",
            "Epoch 5/5\n",
            "16100484/16100484 [==============================] - 731s 45us/step - loss: 4.5650 - root_mean_squared_error: 2.1356 - val_loss: 4.5698 - val_root_mean_squared_error: 2.1367\n"
          ],
          "name": "stdout"
        }
      ]
    },
    {
      "cell_type": "code",
      "metadata": {
        "id": "_okZPxTY-3GJ",
        "colab_type": "code",
        "outputId": "25594edb-f3d7-4beb-b676-b64b936c07b0",
        "colab": {
          "base_uri": "https://localhost:8080/",
          "height": 34
        }
      },
      "source": [
        "loss = history2.history\n",
        "loss.keys()"
      ],
      "execution_count": 0,
      "outputs": [
        {
          "output_type": "execute_result",
          "data": {
            "text/plain": [
              "dict_keys(['val_loss', 'val_root_mean_squared_error', 'loss', 'root_mean_squared_error'])"
            ]
          },
          "metadata": {
            "tags": []
          },
          "execution_count": 40
        }
      ]
    },
    {
      "cell_type": "code",
      "metadata": {
        "id": "Nj_MtTcUJ3wm",
        "colab_type": "code",
        "outputId": "226899f9-cd3a-4f3f-858f-d730c0c186d6",
        "colab": {
          "base_uri": "https://localhost:8080/",
          "height": 390
        }
      },
      "source": [
        "#rmse loss\n",
        "rmse_loss_train = loss['root_mean_squared_error']\n",
        "rmse_loss_val = loss['val_root_mean_squared_error']\n",
        "epochs_stops = es.stopped_epoch +1 # epochs number from early stopping\n",
        "epochs = range(1,6)  #len(loss_train)\n",
        "plt.figure(figsize=(12,6))\n",
        "plt.plot(epochs,rmse_loss_train,'r', label='RMSE train loss')\n",
        "plt.plot(epochs,rmse_loss_val,'b',label='RMSE val loss')\n",
        "plt.title(' root mean square error loss')\n",
        "plt.legend()\n",
        "plt.show()"
      ],
      "execution_count": 0,
      "outputs": [
        {
          "output_type": "display_data",
          "data": {
            "image/png": "[encoded data removed]",
            "text/plain": [
              "<Figure size 864x432 with 1 Axes>"
            ]
          },
          "metadata": {
            "tags": []
          }
        }
      ]
    },
    {
      "cell_type": "markdown",
      "metadata": {
        "id": "b9DxK3wJT85c",
        "colab_type": "text"
      },
      "source": [
        "# Data Test Cleaning"
      ]
    },
    {
      "cell_type": "code",
      "metadata": {
        "id": "YcXQrnqFk6MV",
        "colab_type": "code",
        "colab": {}
      },
      "source": [
        "#The same as the data train cleaning\n",
        "Test_DF_T = pd.read_csv(\"test.csv\")"
      ],
      "execution_count": 0,
      "outputs": []
    },
    {
      "cell_type": "code",
      "metadata": {
        "id": "V3o7meIwVbVh",
        "colab_type": "code",
        "colab": {}
      },
      "source": [
        "Test_DF_T = Test_DF_T.merge(BuildM_DF, on='building_id', how='left')\n",
        "Test_DF_T = Test_DF_T.merge(Weather_Test_DF,left_on=['site_id','timestamp'],right_on=['site_id','timestamp'],how='left')"
      ],
      "execution_count": 0,
      "outputs": []
    },
    {
      "cell_type": "code",
      "metadata": {
        "id": "Shl_NvKoXlGU",
        "colab_type": "code",
        "colab": {}
      },
      "source": [
        "Test_DF_T[\"datetime\"] = pd.to_datetime(Test_DF_T[\"timestamp\"])\n",
        "Test_DF_T[\"day\"] = Test_DF_T[\"datetime\"].dt.day\n",
        "Test_DF_T[\"week\"] = Test_DF_T[\"datetime\"].dt.week\n",
        "Test_DF_T[\"month\"] = Test_DF_T[\"datetime\"].dt.month\n",
        "    "
      ],
      "execution_count": 0,
      "outputs": []
    },
    {
      "cell_type": "code",
      "metadata": {
        "id": "J_ooEM8UYJeM",
        "colab_type": "code",
        "colab": {}
      },
      "source": [
        "Test_DF_T = Test_DF_T.drop(columns=['datetime','timestamp'])"
      ],
      "execution_count": 0,
      "outputs": []
    },
    {
      "cell_type": "code",
      "metadata": {
        "id": "xf2f4yHPm05L",
        "colab_type": "code",
        "colab": {}
      },
      "source": [
        "Test_DF_T = Test_DF_T.drop(columns=['dew_temperature','wind_direction','row_id'])"
      ],
      "execution_count": 0,
      "outputs": []
    },
    {
      "cell_type": "code",
      "metadata": {
        "id": "O7-8V1DGGqwK",
        "colab_type": "code",
        "colab": {}
      },
      "source": [
        "Test_DF_T['air_temperature'].fillna(Test_DF_T['air_temperature'].mean(), inplace=True)\n",
        "Test_DF_T['cloud_coverage'].fillna(Test_DF_T['cloud_coverage'].mean(), inplace=True)\n",
        "Test_DF_T['wind_speed'].fillna(Test_DF_T['wind_speed'].mean(), inplace=True)\n",
        "Test_DF_T['precip_depth_1_hr'].fillna(Test_DF_T['precip_depth_1_hr'].mean(), inplace=True)\n",
        "Test_DF_T['sea_level_pressure'].fillna(Test_DF_T['sea_level_pressure'].mean(), inplace=True)"
      ],
      "execution_count": 0,
      "outputs": []
    },
    {
      "cell_type": "code",
      "metadata": {
        "id": "clD0c68IY5RN",
        "colab_type": "code",
        "outputId": "27aacf06-e462-443a-e956-94798d28aea1",
        "colab": {
          "base_uri": "https://localhost:8080/",
          "height": 34
        }
      },
      "source": [
        "Test_DF_T.shape"
      ],
      "execution_count": 19,
      "outputs": [
        {
          "output_type": "execute_result",
          "data": {
            "text/plain": [
              "(41697600, 13)"
            ]
          },
          "metadata": {
            "tags": []
          },
          "execution_count": 19
        }
      ]
    },
    {
      "cell_type": "code",
      "metadata": {
        "id": "Pfdktul3cZUd",
        "colab_type": "code",
        "colab": {
          "base_uri": "https://localhost:8080/",
          "height": 456
        },
        "outputId": "28ff25cf-1c8d-45f1-a5cf-0e5e4bd7d3c1"
      },
      "source": [
        "reduce_memory_usage(Test_DF_T)"
      ],
      "execution_count": 20,
      "outputs": [
        {
          "output_type": "stream",
          "text": [
            "Mem. usage decreased to 1192.98 Mb (73.2% reduction)\n"
          ],
          "name": "stdout"
        },
        {
          "output_type": "execute_result",
          "data": {
            "text/html": [
              "<div>\n",
              "<style scoped>\n",
              "    .dataframe tbody tr th:only-of-type {\n",
              "        vertical-align: middle;\n",
              "    }\n",
              "\n",
              "    .dataframe tbody tr th {\n",
              "        vertical-align: top;\n",
              "    }\n",
              "\n",
              "    .dataframe thead th {\n",
              "        text-align: right;\n",
              "    }\n",
              "</style>\n",
              "<table border=\"1\" class=\"dataframe\">\n",
              "  <thead>\n",
              "    <tr style=\"text-align: right;\">\n",
              "      <th></th>\n",
              "      <th>building_id</th>\n",
              "      <th>meter</th>\n",
              "      <th>site_id</th>\n",
              "      <th>primary_use</th>\n",
              "      <th>square_feet</th>\n",
              "      <th>air_temperature</th>\n",
              "      <th>cloud_coverage</th>\n",
              "      <th>precip_depth_1_hr</th>\n",
              "      <th>sea_level_pressure</th>\n",
              "      <th>wind_speed</th>\n",
              "      <th>day</th>\n",
              "      <th>week</th>\n",
              "      <th>month</th>\n",
              "    </tr>\n",
              "  </thead>\n",
              "  <tbody>\n",
              "    <tr>\n",
              "      <th>0</th>\n",
              "      <td>0</td>\n",
              "      <td>0</td>\n",
              "      <td>0</td>\n",
              "      <td>0</td>\n",
              "      <td>7432</td>\n",
              "      <td>17.796875</td>\n",
              "      <td>4.000000</td>\n",
              "      <td>0.918457</td>\n",
              "      <td>1021.5</td>\n",
              "      <td>3.599609</td>\n",
              "      <td>1</td>\n",
              "      <td>52</td>\n",
              "      <td>1</td>\n",
              "    </tr>\n",
              "    <tr>\n",
              "      <th>1</th>\n",
              "      <td>1</td>\n",
              "      <td>0</td>\n",
              "      <td>0</td>\n",
              "      <td>0</td>\n",
              "      <td>2720</td>\n",
              "      <td>17.796875</td>\n",
              "      <td>4.000000</td>\n",
              "      <td>0.918457</td>\n",
              "      <td>1021.5</td>\n",
              "      <td>3.599609</td>\n",
              "      <td>1</td>\n",
              "      <td>52</td>\n",
              "      <td>1</td>\n",
              "    </tr>\n",
              "    <tr>\n",
              "      <th>2</th>\n",
              "      <td>2</td>\n",
              "      <td>0</td>\n",
              "      <td>0</td>\n",
              "      <td>0</td>\n",
              "      <td>5376</td>\n",
              "      <td>17.796875</td>\n",
              "      <td>4.000000</td>\n",
              "      <td>0.918457</td>\n",
              "      <td>1021.5</td>\n",
              "      <td>3.599609</td>\n",
              "      <td>1</td>\n",
              "      <td>52</td>\n",
              "      <td>1</td>\n",
              "    </tr>\n",
              "    <tr>\n",
              "      <th>3</th>\n",
              "      <td>3</td>\n",
              "      <td>0</td>\n",
              "      <td>0</td>\n",
              "      <td>0</td>\n",
              "      <td>23685</td>\n",
              "      <td>17.796875</td>\n",
              "      <td>4.000000</td>\n",
              "      <td>0.918457</td>\n",
              "      <td>1021.5</td>\n",
              "      <td>3.599609</td>\n",
              "      <td>1</td>\n",
              "      <td>52</td>\n",
              "      <td>1</td>\n",
              "    </tr>\n",
              "    <tr>\n",
              "      <th>4</th>\n",
              "      <td>4</td>\n",
              "      <td>0</td>\n",
              "      <td>0</td>\n",
              "      <td>0</td>\n",
              "      <td>116607</td>\n",
              "      <td>17.796875</td>\n",
              "      <td>4.000000</td>\n",
              "      <td>0.918457</td>\n",
              "      <td>1021.5</td>\n",
              "      <td>3.599609</td>\n",
              "      <td>1</td>\n",
              "      <td>52</td>\n",
              "      <td>1</td>\n",
              "    </tr>\n",
              "    <tr>\n",
              "      <th>...</th>\n",
              "      <td>...</td>\n",
              "      <td>...</td>\n",
              "      <td>...</td>\n",
              "      <td>...</td>\n",
              "      <td>...</td>\n",
              "      <td>...</td>\n",
              "      <td>...</td>\n",
              "      <td>...</td>\n",
              "      <td>...</td>\n",
              "      <td>...</td>\n",
              "      <td>...</td>\n",
              "      <td>...</td>\n",
              "      <td>...</td>\n",
              "    </tr>\n",
              "    <tr>\n",
              "      <th>41697595</th>\n",
              "      <td>1444</td>\n",
              "      <td>0</td>\n",
              "      <td>15</td>\n",
              "      <td>1</td>\n",
              "      <td>19619</td>\n",
              "      <td>15.507812</td>\n",
              "      <td>1.973633</td>\n",
              "      <td>0.918457</td>\n",
              "      <td>1016.0</td>\n",
              "      <td>3.386719</td>\n",
              "      <td>9</td>\n",
              "      <td>19</td>\n",
              "      <td>5</td>\n",
              "    </tr>\n",
              "    <tr>\n",
              "      <th>41697596</th>\n",
              "      <td>1445</td>\n",
              "      <td>0</td>\n",
              "      <td>15</td>\n",
              "      <td>0</td>\n",
              "      <td>4298</td>\n",
              "      <td>15.507812</td>\n",
              "      <td>1.973633</td>\n",
              "      <td>0.918457</td>\n",
              "      <td>1016.0</td>\n",
              "      <td>3.386719</td>\n",
              "      <td>9</td>\n",
              "      <td>19</td>\n",
              "      <td>5</td>\n",
              "    </tr>\n",
              "    <tr>\n",
              "      <th>41697597</th>\n",
              "      <td>1446</td>\n",
              "      <td>0</td>\n",
              "      <td>15</td>\n",
              "      <td>1</td>\n",
              "      <td>11265</td>\n",
              "      <td>15.507812</td>\n",
              "      <td>1.973633</td>\n",
              "      <td>0.918457</td>\n",
              "      <td>1016.0</td>\n",
              "      <td>3.386719</td>\n",
              "      <td>9</td>\n",
              "      <td>19</td>\n",
              "      <td>5</td>\n",
              "    </tr>\n",
              "    <tr>\n",
              "      <th>41697598</th>\n",
              "      <td>1447</td>\n",
              "      <td>0</td>\n",
              "      <td>15</td>\n",
              "      <td>2</td>\n",
              "      <td>29775</td>\n",
              "      <td>15.507812</td>\n",
              "      <td>1.973633</td>\n",
              "      <td>0.918457</td>\n",
              "      <td>1016.0</td>\n",
              "      <td>3.386719</td>\n",
              "      <td>9</td>\n",
              "      <td>19</td>\n",
              "      <td>5</td>\n",
              "    </tr>\n",
              "    <tr>\n",
              "      <th>41697599</th>\n",
              "      <td>1448</td>\n",
              "      <td>0</td>\n",
              "      <td>15</td>\n",
              "      <td>3</td>\n",
              "      <td>92271</td>\n",
              "      <td>15.507812</td>\n",
              "      <td>1.973633</td>\n",
              "      <td>0.918457</td>\n",
              "      <td>1016.0</td>\n",
              "      <td>3.386719</td>\n",
              "      <td>9</td>\n",
              "      <td>19</td>\n",
              "      <td>5</td>\n",
              "    </tr>\n",
              "  </tbody>\n",
              "</table>\n",
              "<p>41697600 rows × 13 columns</p>\n",
              "</div>"
            ],
            "text/plain": [
              "          building_id  meter  site_id  ...  day  week  month\n",
              "0                   0      0        0  ...    1    52      1\n",
              "1                   1      0        0  ...    1    52      1\n",
              "2                   2      0        0  ...    1    52      1\n",
              "3                   3      0        0  ...    1    52      1\n",
              "4                   4      0        0  ...    1    52      1\n",
              "...               ...    ...      ...  ...  ...   ...    ...\n",
              "41697595         1444      0       15  ...    9    19      5\n",
              "41697596         1445      0       15  ...    9    19      5\n",
              "41697597         1446      0       15  ...    9    19      5\n",
              "41697598         1447      0       15  ...    9    19      5\n",
              "41697599         1448      0       15  ...    9    19      5\n",
              "\n",
              "[41697600 rows x 13 columns]"
            ]
          },
          "metadata": {
            "tags": []
          },
          "execution_count": 20
        }
      ]
    },
    {
      "cell_type": "code",
      "metadata": {
        "id": "UcPzsryqvPFn",
        "colab_type": "code",
        "colab": {}
      },
      "source": [
        "Test_DF_T = Test_DF_T.values[:]"
      ],
      "execution_count": 0,
      "outputs": []
    },
    {
      "cell_type": "code",
      "metadata": {
        "id": "HQrOnpDEvf41",
        "colab_type": "code",
        "outputId": "fe1bf71c-4722-4d89-a52d-2212d9472c0b",
        "colab": {
          "base_uri": "https://localhost:8080/",
          "height": 34
        }
      },
      "source": [
        "Test_DF_T.shape"
      ],
      "execution_count": 22,
      "outputs": [
        {
          "output_type": "execute_result",
          "data": {
            "text/plain": [
              "(41697600, 13)"
            ]
          },
          "metadata": {
            "tags": []
          },
          "execution_count": 22
        }
      ]
    },
    {
      "cell_type": "code",
      "metadata": {
        "id": "IC0yrcSYwpUX",
        "colab_type": "code",
        "colab": {}
      },
      "source": [
        "Test_DF_T = Test_DF_T.reshape((Test_DF_T.shape[0],1,Test_DF_T.shape[-1]))"
      ],
      "execution_count": 0,
      "outputs": []
    },
    {
      "cell_type": "markdown",
      "metadata": {
        "id": "T57fueZKWxTs",
        "colab_type": "text"
      },
      "source": [
        "# Submit"
      ]
    },
    {
      "cell_type": "code",
      "metadata": {
        "id": "zobq_teJvmNh",
        "colab_type": "code",
        "outputId": "8ebe37f1-7873-4a8f-a970-2057368a2c83",
        "colab": {
          "base_uri": "https://localhost:8080/",
          "height": 34
        }
      },
      "source": [
        "predicted =model3.predict(Test_DF_T, batch_size=1024, verbose=1)\n"
      ],
      "execution_count": 0,
      "outputs": [
        {
          "output_type": "stream",
          "text": [
            "41697600/41697600 [==============================] - 402s 10us/step\n"
          ],
          "name": "stdout"
        }
      ]
    },
    {
      "cell_type": "code",
      "metadata": {
        "id": "fOPsFwK5y355",
        "colab_type": "code",
        "colab": {}
      },
      "source": [
        "#predicted = np.expm1(predicted)\n"
      ],
      "execution_count": 0,
      "outputs": []
    },
    {
      "cell_type": "code",
      "metadata": {
        "id": "KzlpWu3nz6Ac",
        "colab_type": "code",
        "outputId": "a138858f-be67-4f89-e6ea-08f852bf51a3",
        "colab": {
          "base_uri": "https://localhost:8080/",
          "height": 34
        }
      },
      "source": [
        "#len(predicted)"
      ],
      "execution_count": 0,
      "outputs": [
        {
          "output_type": "execute_result",
          "data": {
            "text/plain": [
              "41697600"
            ]
          },
          "metadata": {
            "tags": []
          },
          "execution_count": 68
        }
      ]
    },
    {
      "cell_type": "code",
      "metadata": {
        "id": "ruybxJ8VzbEQ",
        "colab_type": "code",
        "colab": {}
      },
      "source": [
        "#submit = pd.read_csv('sample_submission.csv')"
      ],
      "execution_count": 0,
      "outputs": []
    },
    {
      "cell_type": "code",
      "metadata": {
        "id": "o91IfP-1zQHp",
        "colab_type": "code",
        "colab": {}
      },
      "source": [
        "#submit['meter_reading'] = predicted\n"
      ],
      "execution_count": 0,
      "outputs": []
    },
    {
      "cell_type": "code",
      "metadata": {
        "id": "wUB4uiEdzi6C",
        "colab_type": "code",
        "colab": {}
      },
      "source": [
        "#submit.to_csv('submission.csv', index=False,float_format='%.4f')"
      ],
      "execution_count": 0,
      "outputs": []
    },
    {
      "cell_type": "code",
      "metadata": {
        "id": "d3MxdjFEJZIe",
        "colab_type": "code",
        "outputId": "f219d09a-0a97-48eb-e4c5-a67ec64468db",
        "colab": {
          "base_uri": "https://localhost:8080/",
          "height": 204
        }
      },
      "source": [
        "#submit.head()\n"
      ],
      "execution_count": 0,
      "outputs": [
        {
          "output_type": "execute_result",
          "data": {
            "text/html": [
              "<div>\n",
              "<style scoped>\n",
              "    .dataframe tbody tr th:only-of-type {\n",
              "        vertical-align: middle;\n",
              "    }\n",
              "\n",
              "    .dataframe tbody tr th {\n",
              "        vertical-align: top;\n",
              "    }\n",
              "\n",
              "    .dataframe thead th {\n",
              "        text-align: right;\n",
              "    }\n",
              "</style>\n",
              "<table border=\"1\" class=\"dataframe\">\n",
              "  <thead>\n",
              "    <tr style=\"text-align: right;\">\n",
              "      <th></th>\n",
              "      <th>row_id</th>\n",
              "      <th>meter_reading</th>\n",
              "    </tr>\n",
              "  </thead>\n",
              "  <tbody>\n",
              "    <tr>\n",
              "      <th>0</th>\n",
              "      <td>0</td>\n",
              "      <td>59.484806</td>\n",
              "    </tr>\n",
              "    <tr>\n",
              "      <th>1</th>\n",
              "      <td>1</td>\n",
              "      <td>59.484806</td>\n",
              "    </tr>\n",
              "    <tr>\n",
              "      <th>2</th>\n",
              "      <td>2</td>\n",
              "      <td>59.484806</td>\n",
              "    </tr>\n",
              "    <tr>\n",
              "      <th>3</th>\n",
              "      <td>3</td>\n",
              "      <td>59.484806</td>\n",
              "    </tr>\n",
              "    <tr>\n",
              "      <th>4</th>\n",
              "      <td>4</td>\n",
              "      <td>59.484806</td>\n",
              "    </tr>\n",
              "  </tbody>\n",
              "</table>\n",
              "</div>"
            ],
            "text/plain": [
              "   row_id  meter_reading\n",
              "0       0      59.484806\n",
              "1       1      59.484806\n",
              "2       2      59.484806\n",
              "3       3      59.484806\n",
              "4       4      59.484806"
            ]
          },
          "metadata": {
            "tags": []
          },
          "execution_count": 73
        }
      ]
    },
    {
      "cell_type": "code",
      "metadata": {
        "id": "PPYJ7YC4J_WU",
        "colab_type": "code",
        "outputId": "451c2dcf-65b4-4ca7-9f2d-8bdba352529a",
        "colab": {
          "base_uri": "https://localhost:8080/",
          "height": 68
        }
      },
      "source": [
        "#!kaggle competitions submit ashrae-energy-prediction -f submission.csv -m 'Final submission'\n"
      ],
      "execution_count": 0,
      "outputs": [
        {
          "output_type": "stream",
          "text": [
            "Warning: Looks like you're using an outdated API Version, please consider updating (server 1.5.6 / client 1.5.4)\n",
            "100% 665M/665M [00:26<00:00, 26.4MB/s]\n",
            "Successfully submitted to ASHRAE - Great Energy Predictor III"
          ],
          "name": "stdout"
        }
      ]
    }
  ]
}